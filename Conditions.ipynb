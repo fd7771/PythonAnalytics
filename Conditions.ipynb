{
 "cells": [
  {
   "cell_type": "code",
   "execution_count": null,
   "id": "a833453b",
   "metadata": {},
   "outputs": [],
   "source": [
    "## Проверка значений двух переменных идет через ==\n",
    "## Оператор неравества (результатом будет булевное значение True/False)   !=  "
   ]
  },
  {
   "cell_type": "code",
   "execution_count": 1,
   "id": "ffff9e92",
   "metadata": {},
   "outputs": [
    {
     "data": {
      "text/plain": [
       "True"
      ]
     },
     "execution_count": 1,
     "metadata": {},
     "output_type": "execute_result"
    }
   ],
   "source": [
    "2>1"
   ]
  },
  {
   "cell_type": "code",
   "execution_count": 2,
   "id": "604a542f",
   "metadata": {},
   "outputs": [
    {
     "data": {
      "text/plain": [
       "False"
      ]
     },
     "execution_count": 2,
     "metadata": {},
     "output_type": "execute_result"
    }
   ],
   "source": [
    "10<9"
   ]
  },
  {
   "cell_type": "code",
   "execution_count": 3,
   "id": "956e9db9",
   "metadata": {},
   "outputs": [
    {
     "data": {
      "text/plain": [
       "False"
      ]
     },
     "execution_count": 3,
     "metadata": {},
     "output_type": "execute_result"
    }
   ],
   "source": [
    "10>10"
   ]
  },
  {
   "cell_type": "code",
   "execution_count": 4,
   "id": "db8d7b83",
   "metadata": {},
   "outputs": [
    {
     "data": {
      "text/plain": [
       "True"
      ]
     },
     "execution_count": 4,
     "metadata": {},
     "output_type": "execute_result"
    }
   ],
   "source": [
    "10 >= 10"
   ]
  },
  {
   "cell_type": "code",
   "execution_count": 5,
   "id": "02e03294",
   "metadata": {},
   "outputs": [
    {
     "data": {
      "text/plain": [
       "True"
      ]
     },
     "execution_count": 5,
     "metadata": {},
     "output_type": "execute_result"
    }
   ],
   "source": [
    "7 == 7"
   ]
  },
  {
   "cell_type": "code",
   "execution_count": 6,
   "id": "e81d2119",
   "metadata": {},
   "outputs": [
    {
     "data": {
      "text/plain": [
       "False"
      ]
     },
     "execution_count": 6,
     "metadata": {},
     "output_type": "execute_result"
    }
   ],
   "source": [
    "15 != 15"
   ]
  },
  {
   "cell_type": "code",
   "execution_count": 7,
   "id": "81dda259",
   "metadata": {},
   "outputs": [
    {
     "data": {
      "text/plain": [
       "True"
      ]
     },
     "execution_count": 7,
     "metadata": {},
     "output_type": "execute_result"
    }
   ],
   "source": [
    "5 > 4 < 10"
   ]
  },
  {
   "cell_type": "code",
   "execution_count": 8,
   "id": "28144b93",
   "metadata": {},
   "outputs": [
    {
     "name": "stdout",
     "output_type": "stream",
     "text": [
      "True\n"
     ]
    }
   ],
   "source": [
    "# сравнение строк\n",
    "print('c' > 'a')"
   ]
  },
  {
   "cell_type": "code",
   "execution_count": 9,
   "id": "e73c5db2",
   "metadata": {},
   "outputs": [
    {
     "name": "stdout",
     "output_type": "stream",
     "text": [
      "True\n"
     ]
    }
   ],
   "source": [
    "# сравнение строк\n",
    "print('b' > 'a')"
   ]
  },
  {
   "cell_type": "code",
   "execution_count": 10,
   "id": "5e35631d",
   "metadata": {},
   "outputs": [
    {
     "name": "stdout",
     "output_type": "stream",
     "text": [
      "True\n"
     ]
    }
   ],
   "source": [
    "print ('abc' > 'aba')"
   ]
  },
  {
   "cell_type": "code",
   "execution_count": 12,
   "id": "a5f10f2c",
   "metadata": {},
   "outputs": [
    {
     "name": "stdout",
     "output_type": "stream",
     "text": [
      "True\n"
     ]
    }
   ],
   "source": [
    "print (len('abc') > len('ab'))"
   ]
  },
  {
   "cell_type": "code",
   "execution_count": 14,
   "id": "7c8c55a2",
   "metadata": {},
   "outputs": [
    {
     "name": "stdout",
     "output_type": "stream",
     "text": [
      "переменная \"а\" меньше двух\n"
     ]
    }
   ],
   "source": [
    "a = 1\n",
    "b = 2\n",
    "\n",
    "if(a<b):\n",
    "    print('переменная \"а\" меньше двух')"
   ]
  },
  {
   "cell_type": "code",
   "execution_count": 18,
   "id": "5e68044e",
   "metadata": {},
   "outputs": [
    {
     "data": {
      "text/plain": [
       "True"
      ]
     },
     "execution_count": 18,
     "metadata": {},
     "output_type": "execute_result"
    }
   ],
   "source": [
    "'2020-05-01'< '2020-06-01'"
   ]
  },
  {
   "cell_type": "code",
   "execution_count": 20,
   "id": "5b029322",
   "metadata": {},
   "outputs": [
    {
     "name": "stdout",
     "output_type": "stream",
     "text": [
      "6 - четное число\n"
     ]
    }
   ],
   "source": [
    "x = 6\n",
    "if x % 2 == 0:\n",
    "    print(x, '- четное число')\n"
   ]
  },
  {
   "cell_type": "code",
   "execution_count": 21,
   "id": "80ca22ea",
   "metadata": {},
   "outputs": [
    {
     "data": {
      "text/plain": [
       "True"
      ]
     },
     "execution_count": 21,
     "metadata": {},
     "output_type": "execute_result"
    }
   ],
   "source": [
    "0 < 1 and 2 > 1"
   ]
  },
  {
   "cell_type": "code",
   "execution_count": 22,
   "id": "a30b07a6",
   "metadata": {},
   "outputs": [
    {
     "data": {
      "text/plain": [
       "True"
      ]
     },
     "execution_count": 22,
     "metadata": {},
     "output_type": "execute_result"
    }
   ],
   "source": [
    "0 < 1 or 2 > 1"
   ]
  },
  {
   "cell_type": "code",
   "execution_count": 23,
   "id": "d388fb90",
   "metadata": {},
   "outputs": [
    {
     "data": {
      "text/plain": [
       "False"
      ]
     },
     "execution_count": 23,
     "metadata": {},
     "output_type": "execute_result"
    }
   ],
   "source": [
    "not 0 < 1"
   ]
  },
  {
   "cell_type": "code",
   "execution_count": null,
   "id": "7dbbd5fa",
   "metadata": {},
   "outputs": [],
   "source": [
    "## КАЖДОЕ ОТДЕЛЬНОЕ УСЛОВИЕ НЕОБХОДИМО ВЫДЕЛЯТЬ В ОТДЕЛЬНЫЕ СКОБКИ ТК УЛУЧШАЕТ ЧТЕНИЕ КОДА"
   ]
  },
  {
   "cell_type": "code",
   "execution_count": 24,
   "id": "7464f458",
   "metadata": {},
   "outputs": [
    {
     "name": "stdout",
     "output_type": "stream",
     "text": [
      "В танкисты\n",
      "Конец программы\n"
     ]
    }
   ],
   "source": [
    "## ПРОГРАММА ПРИЗЫВНИК\n",
    "height = 140\n",
    "if height < 170:\n",
    "    print('В танкисты')\n",
    "print ('Конец программы')"
   ]
  },
  {
   "cell_type": "code",
   "execution_count": 25,
   "id": "784e0fd3",
   "metadata": {},
   "outputs": [
    {
     "name": "stdout",
     "output_type": "stream",
     "text": [
      "В танкисты\n",
      "Конец программы\n"
     ]
    }
   ],
   "source": [
    "if height < 170:\n",
    "    print ('В танкисты')\n",
    "else:\n",
    "    print('В другие войска')\n",
    "print('Конец программы')"
   ]
  },
  {
   "cell_type": "code",
   "execution_count": 26,
   "id": "cd500263",
   "metadata": {},
   "outputs": [
    {
     "name": "stdout",
     "output_type": "stream",
     "text": [
      "В другие войска\n",
      "Конец программы\n"
     ]
    }
   ],
   "source": [
    "# условие выполняется по порядку\n",
    "height = 210\n",
    "if height < 170:\n",
    "    print('В танкисты')\n",
    "elif height < 200:\n",
    "    print('В десантники')\n",
    "else:\n",
    "    print('В другие войска')\n",
    "print('Конец программы')"
   ]
  },
  {
   "cell_type": "code",
   "execution_count": 27,
   "id": "0ae1e5a0",
   "metadata": {},
   "outputs": [
    {
     "name": "stdout",
     "output_type": "stream",
     "text": [
      "в танкисты\n",
      "конец программы\n"
     ]
    }
   ],
   "source": [
    "# условие выполняется по порядку (усовершенствованное)\n",
    "age = 21\n",
    "height = 160\n",
    "if height < 170 and age >=18:\n",
    "    print('в танкисты')\n",
    "elif height < 185 and age >=18:\n",
    "    print('на флот')\n",
    "elif height < 200 and age>=19:\n",
    "    print ('в десантники')\n",
    "else:\n",
    "    print('в другие войска')\n",
    "print ('конец программы')"
   ]
  },
  {
   "cell_type": "code",
   "execution_count": 39,
   "id": "e55813e7",
   "metadata": {},
   "outputs": [
    {
     "name": "stdout",
     "output_type": "stream",
     "text": [
      "Введите возраст 65\n",
      "Введите рост 201\n",
      "в другие войска\n",
      "конец программы\n"
     ]
    }
   ],
   "source": [
    "# с внесением данных\n",
    "\n",
    "age= int(input('Введите возраст '))\n",
    "\n",
    "if age >=18:\n",
    "    user_input = int(input('Введите рост '))\n",
    "    if user_input < 172:\n",
    "        print ('в танкисты')\n",
    "    elif user_input < 185:\n",
    "        print ('на флот')\n",
    "    elif user_input < 200:\n",
    "        print ('в десантники')\n",
    "    else:\n",
    "        print('в другие войска')\n",
    "else:\n",
    "    print('непризывной возраст')\n",
    "print('конец программы')\n",
    "\n",
    "\n"
   ]
  }
 ],
 "metadata": {
  "kernelspec": {
   "display_name": "Python 3",
   "language": "python",
   "name": "python3"
  },
  "language_info": {
   "codemirror_mode": {
    "name": "ipython",
    "version": 3
   },
   "file_extension": ".py",
   "mimetype": "text/x-python",
   "name": "python",
   "nbconvert_exporter": "python",
   "pygments_lexer": "ipython3",
   "version": "3.8.8"
  }
 },
 "nbformat": 4,
 "nbformat_minor": 5
}
