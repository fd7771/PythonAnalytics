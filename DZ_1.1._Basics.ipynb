{
 "cells": [
  {
   "cell_type": "code",
   "execution_count": 8,
   "id": "2a9a58c5",
   "metadata": {},
   "outputs": [
    {
     "name": "stdout",
     "output_type": "stream",
     "text": [
      "Фраза 1 равна фразе 2\n"
     ]
    }
   ],
   "source": [
    "# Задание 1\n",
    "\n",
    "\"\"\"\n",
    "Даны 2 переменных, в которых хранятся строки произвольной длины: phrase_1 и phrase_2.\n",
    "Напишите код, который проверяет какая из этих строк длиннее.\n",
    "\"\"\"\n",
    "\n",
    "phrase_1 = 'абы'\n",
    "phrase_2 = 'авы'\n",
    "\n",
    "if len(phrase_1) > len(phrase_2):\n",
    "    print('Фраза 1 длиннее фразы 2')\n",
    "elif len(phrase_1) < len(phrase_2):\n",
    "    print('Фраза 2 длиннее фразы 1')\n",
    "else:\n",
    "    print('Фраза 1 равна фразе 2')\n"
   ]
  },
  {
   "cell_type": "code",
   "execution_count": 13,
   "id": "f1a444fe",
   "metadata": {},
   "outputs": [
    {
     "name": "stdout",
     "output_type": "stream",
     "text": [
      "високосный год\n"
     ]
    }
   ],
   "source": [
    "# Задание 2\n",
    "\n",
    "\"\"\"\n",
    "Дана переменная, в которой хранится четырехзначное число (год). \n",
    "Необходимо написать программу, которая выведет, является ли данный год високосным или обычным.\n",
    "\"\"\"\n",
    "\n",
    "year = 2020\n",
    "\n",
    "if year < 43: \n",
    "    if year % 3 == 0 :\n",
    "        print('високосный год')\n",
    "    else:\n",
    "        print('обычный год')\n",
    "else:\n",
    "    if year % 4 == 0:\n",
    "        print('високосный год')\n",
    "    else:\n",
    "        print('обычный год')"
   ]
  },
  {
   "cell_type": "code",
   "execution_count": 16,
   "id": "e5ba5b47",
   "metadata": {},
   "outputs": [
    {
     "name": "stdout",
     "output_type": "stream",
     "text": [
      "Введите месяц: 9\n",
      "Введите день: 22\n",
      "Ваш знак зодиака: Дева\n"
     ]
    }
   ],
   "source": [
    "# Задание 3\n",
    "\n",
    "\"\"\"\n",
    "Необходимо написать программу, которая будет запрашивать у пользователя месяц и дату рождения и выводить соответствующий знак зодиака.\n",
    "\"\"\"\n",
    "\n",
    "mes = int(input('Введите месяц: '))\n",
    "day = int(input( 'Введите день: '))\n",
    "\n",
    "# Находим знак Козерога\n",
    "if(mes > 0 and day > 0):\n",
    "    if(mes == 12 and day >= 22 and day <= 31):\n",
    "        print('Ваш знак зодиака: Козерог')\n",
    "    elif (mes == 1 and day <= 19):\n",
    "        print('Ваш знак зодиака: Козерог')\n",
    "    elif(mes == 12 and day >= 22 and day > 31):\n",
    "        print('В декабре 31 день, проставьте пожалуйста корректный день')\n",
    "else:\n",
    "    print('Введите пожалуйста числовые данные, отличные от нуля')\n",
    "\n",
    "# Находим знак Водолей\n",
    "if (mes == 2 and day <= 18 and day > 0 # Находим знак водолей\n",
    "or mes == 1 and day >= 22 and day <= 31):\n",
    "    print('Ваш знак зодиака: Водолей')\n",
    "\n",
    "elif (mes == 3 and day <= 20 and day > 0 # Находим знак рыбы\n",
    "or mes == 2 and day >= 19 and day <= 29):\n",
    "    print('Ваш знак зодиака: Рыбы') \n",
    "\n",
    "elif (mes == 4 and day <= 20 and day > 0 # Находим знак Овен\n",
    "or mes == 3 and day >= 21 and day <= 31):\n",
    "    print('Ваш знак зодиака: Овен')     \n",
    "\n",
    "elif (mes == 5 and day <= 20 and day > 0 # Находим знак Телец\n",
    "or mes == 4 and day >= 21 and day <= 30):\n",
    "    print('Ваш знак зодиака: Телец')\n",
    "    \n",
    "elif (mes == 6 and day <= 20 and day > 0 # Находим знак Близнецы\n",
    "or mes == 5 and day >= 21 and day <= 31):\n",
    "    print('Ваш знак зодиака: Близнецы')  \n",
    "    \n",
    "elif (mes == 7 and day <= 22 and day > 0 # Находим знак Рак\n",
    "or mes == 6 and day >= 21 and day <= 30):\n",
    "    print('Ваш знак зодиака: Рак')  \n",
    "    \n",
    "elif (mes == 8 and day <= 22 and day > 0 # Находим знак Лев\n",
    "or mes == 7 and day >= 23 and day <= 31):\n",
    "    print('Ваш знак зодиака: Лев') \n",
    "\n",
    "elif (mes == 9 and day <= 23 and day > 0 # Находим знак Дева\n",
    "or mes == 8 and day >= 23 and day <= 31):\n",
    "    print('Ваш знак зодиака: Дева') \n",
    "\n",
    "elif (mes == 10 and day <= 23 and day > 0 # Находим знак Весы\n",
    "or mes == 9 and day >= 24 and day <= 30):\n",
    "    print('Ваш знак зодиака: Весы')  \n",
    "\n",
    "elif (mes == 11 and day <= 21 and day > 0 # Находим знак Скорпион\n",
    "or mes == 10 and day >= 24 and day <= 31):\n",
    "    print('Ваш знак зодиака: Скорпион') \n",
    "\n",
    "elif (mes == 12 and day <= 21 and day > 0 # Находим знак Стрелец\n",
    "or mes == 11 and day >= 22 and day <= 30):\n",
    "    print('Ваш знак зодиака: Стрелец')  \n",
    "    \n",
    "else:\n",
    "    print('Введите пожалуйста корректные данные: день и номер месяца ')\n",
    "    "
   ]
  },
  {
   "cell_type": "code",
   "execution_count": 18,
   "id": "00775b1a",
   "metadata": {},
   "outputs": [
    {
     "name": "stdout",
     "output_type": "stream",
     "text": [
      "Упаковка для лыж\n"
     ]
    }
   ],
   "source": [
    "# Задание 4\n",
    "\n",
    "\"\"\"\n",
    "Вам нужно написать программу для подбора упаковок по размерам товара. Размеры хранятся в переменных (в сантиметрах):\n",
    "\n",
    "width = 10\n",
    "length = 205\n",
    "height = 5\n",
    "Используйте следующие правила:\n",
    "\n",
    "если каждое из трех измерений менее 15 сантиметров, то выведите на экран “Коробка №1”;\n",
    "если хотя бы одно из измерений больше 15 сантиметров, но менее 50 сантиметров, то выводите “Коробка №2”;\n",
    "если длина товара больше 2 метров, то выводите “Упаковка для лыж”;\n",
    "во всех остальных случаях выводите “Стандартная коробка №3”.\n",
    "\"\"\"\n",
    "\n",
    "# Задаем переменные\n",
    "\n",
    "width = 45\n",
    "length = 205\n",
    "height = 45\n",
    "\n",
    "# Прописываем условие исходя из условий задачи\n",
    "\n",
    "if(length > 200):\n",
    "    print('Упаковка для лыж')\n",
    "elif (width < 15 and length < 15 and height < 15):\n",
    "    print('Коробка №1')\n",
    "elif(width > 15 and width < 50 or length > 15 and length < 50 or height > 15 and height < 50):\n",
    "    print('Коробка №2')\n",
    "\n",
    "else:\n",
    "    print('Стандартная коробка №3')\n"
   ]
  },
  {
   "cell_type": "code",
   "execution_count": 126,
   "id": "4c3c9dea",
   "metadata": {},
   "outputs": [
    {
     "name": "stdout",
     "output_type": "stream",
     "text": [
      "Введите число: 231234\n",
      "Несчастливый билет\n"
     ]
    }
   ],
   "source": [
    "# Задание 5\n",
    "\n",
    "\"\"\"\n",
    "Дана переменная, в которой хранится шестизначное число (номер проездного билета). Напишите программу, которая будет определять, является ли данный билет “счастливым”. \n",
    "Билет считается счастливым, если сумма первых трех цифр совпадает с суммой последних трех цифр номера.\n",
    "\"\"\"\n",
    "\n",
    "# Внесение числа пользователем\n",
    "source = int(input('Введите число: '))\n",
    "\n",
    "# Парсинг введенных чисел\n",
    "source_str = str(source)\n",
    "target6 = source_str[- 1]\n",
    "target5 = source_str[- 2]\n",
    "target4 = source_str[- 3]\n",
    "target3 = source_str[- 4]\n",
    "target2 = source_str[- 5]\n",
    "target1 = source_str[- 6]\n",
    "\n",
    "# Сопоставление чисел 6, 5, 4 с цифрами 1,2,3. Если сопоставление проходит то проставляется 1 иначе 0\n",
    "\n",
    "if(target6 == target3 or target6 == target2 or target6 == target1):\n",
    "    target6z = 1\n",
    "else:\n",
    "        target6z = 0\n",
    "\n",
    "if(target5 == target3 or target5 == target2 or target5 == target1):\n",
    "    target5z = 1   \n",
    "else:\n",
    "        target5z = 0\n",
    "\n",
    "if(target4 == target3 or target4 == target2 or target4 == target1):\n",
    "    target4z = 1   \n",
    "else:\n",
    "        target4z = 0\n",
    "        \n",
    "# Осуществление проверки на счастливый билет - если результат перемножения дает 1 то результат счастливый билет   \n",
    "        \n",
    "if (target6z * target5z * target4z ) == 1:\n",
    "    print('Счастливый билет')\n",
    "else:\n",
    "    print('Несчастливый билет')\n",
    "        "
   ]
  },
  {
   "cell_type": "code",
   "execution_count": 10,
   "id": "e6d3a363",
   "metadata": {},
   "outputs": [
    {
     "name": "stdout",
     "output_type": "stream",
     "text": [
      "Выберите тип фигуры Треугольник\n",
      "Введите сторону А 10\n",
      "Введите сторону B 20\n",
      "Введите сторону C 30\n",
      "Площадь треугольника:  300.0\n"
     ]
    }
   ],
   "source": [
    "# Задание 6\n",
    "\n",
    "\"\"\"\n",
    "Напишите программу, которая сможет вычислять площади трех фигур (круг, треугольник и прямоугольник). \n",
    "Тип фигуры запрашиваем через пользовательский ввод, после чего делаем запрос характеристик фигуры:\n",
    "\n",
    "если пользователь выбрал круг, запрашиваем его радиус,\n",
    "если треугольник – длины трех его сторон;\n",
    "если прямоугольник – длины двух его сторон.\n",
    "\"\"\"\n",
    "\n",
    "source = input('Выберите тип фигуры ')\n",
    "if(source == 'Круг'):\n",
    "    rad = input('Введите радиус ')\n",
    "    sq_circle = 3.14 * (int(rad) ** 2)\n",
    "    print ('Площадь круга: ', sq_circle)\n",
    "elif(source == 'Прямоугольник'):\n",
    "    st1 = input('Введите длину ')\n",
    "    st2 = input('Введите ширину ')\n",
    "    sq_rect = int(st1) * int(st2)\n",
    "    print ('Площадь прямоугольника: ', sq_rect)\n",
    "elif(source == 'Треугольник'):\n",
    "    stA = input('Введите сторону А ')\n",
    "    stB = input('Введите сторону B ') \n",
    "    stC = input('Введите сторону C ')\n",
    "    sq_triangle = int(stB) * int(stC) / 2\n",
    "    print('Площадь треугольника: ', sq_triangle)\n",
    "\n",
    "\n"
   ]
  }
 ],
 "metadata": {
  "kernelspec": {
   "display_name": "Python 3",
   "language": "python",
   "name": "python3"
  },
  "language_info": {
   "codemirror_mode": {
    "name": "ipython",
    "version": 3
   },
   "file_extension": ".py",
   "mimetype": "text/x-python",
   "name": "python",
   "nbconvert_exporter": "python",
   "pygments_lexer": "ipython3",
   "version": "3.8.8"
  }
 },
 "nbformat": 4,
 "nbformat_minor": 5
}
