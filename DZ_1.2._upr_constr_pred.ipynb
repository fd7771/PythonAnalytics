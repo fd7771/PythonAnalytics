{
 "cells": [
  {
   "cell_type": "code",
   "execution_count": 1,
   "id": "35eab1cf",
   "metadata": {},
   "outputs": [
    {
     "name": "stdout",
     "output_type": "stream",
     "text": [
      "д а\n"
     ]
    }
   ],
   "source": [
    "# Задание 1\n",
    "\"\"\"\n",
    "Дана переменная, в которой хранится слово из латинских букв. Напишите код, который выводит на экран:\n",
    "\n",
    "среднюю букву, если число букв в слове нечетное;\n",
    "две средних буквы, если число букв четное.\n",
    "\"\"\"\n",
    "\n",
    "# Проверено на словах Кино и Задача\n",
    "word='Задача'\n",
    "\n",
    "#  Переменная medium находит середину слова\n",
    "medium=len(word)/2\n",
    "# print(medium)\n",
    "\n",
    "# Если число делится на 2 то выводится предыдущее значение от среднего и следующее значение от среднего\n",
    "# если не делится на 2 то выводится целое среднее значение\n",
    "\n",
    "if len(word)%2==0:\n",
    "    print(word[int(medium-1)], word[int(medium)])\n",
    "else:\n",
    "    print(word[int(medium)])\n",
    "\n",
    "\n"
   ]
  },
  {
   "cell_type": "code",
   "execution_count": 57,
   "id": "272aa7f2",
   "metadata": {},
   "outputs": [
    {
     "name": "stdout",
     "output_type": "stream",
     "text": [
      "Введите число 0\n",
      "[0, 5, 10, 15, 5]\n",
      "35\n"
     ]
    }
   ],
   "source": [
    "# Задание 2\n",
    "\n",
    "\"\"\"\n",
    "Напишите программу, которая последовательно запрашивает\n",
    "у пользователя числа (по одному за раз) и после первого нуля выводит сумму всех ранее введенных чисел.\n",
    "\"\"\"\n",
    "### Инструкция по использованию\n",
    "\"\"\"\n",
    "1. Запустите программу\n",
    "2. Введите число (если введенное число отличное от нуля то отобразится список введенных ранее значений, если введенное число\n",
    "равно нулю то отобразится список введенных ранее значений и сумма всех значений списка)\n",
    "3. Продолжайте вводить числа (алгоритм аналогичен п.2)\n",
    "\n",
    "\"\"\"\n",
    "\n",
    "# Зануление списка (технический скрипт)\n",
    "#type_value=[0]\n",
    "\n",
    "# Для внесения данных\n",
    "\n",
    "source=int(input('Введите число '))\n",
    "\n",
    "# Условие, отраженное в инструкции\n",
    "if source!=0:\n",
    "    type_value.append(source)\n",
    "    print(type_value)\n",
    "else:\n",
    "    print(type_value)   \n",
    "    print( sum(type_value))"
   ]
  },
  {
   "cell_type": "code",
   "execution_count": 1,
   "id": "a799f05a",
   "metadata": {},
   "outputs": [
    {
     "name": "stdout",
     "output_type": "stream",
     "text": [
      "Идеальные пары:  [('Alex', 'Emma'), ('Arthur', 'Kate'), ('John', 'Kira'), ('Peter', 'Liza'), ('Richard', 'Trisha')]\n"
     ]
    }
   ],
   "source": [
    "# Задание 3\n",
    "\n",
    "\"\"\"\n",
    "Мы делаем MVP dating-сервиса, и у нас есть список парней и девушек.\n",
    "Выдвигаем гипотезу: лучшие рекомендации мы получим, если просто отсортируем имена по алфавиту и \n",
    "познакомим людей с одинаковыми индексами после сортировки! \n",
    "Но мы не будем никого знакомить, если кто-то может остаться без пары:\n",
    "\"\"\"\n",
    "\n",
    "# Исходные данные\n",
    "boys = ['Peter', 'Alex', 'John', 'Arthur', 'Richard']\n",
    "girls = ['Kate', 'Liza', 'Kira', 'Emma', 'Trisha']\n",
    "\n",
    "# Сортируем списки\n",
    "boys=sorted(boys)\n",
    "girls=sorted(girls)\n",
    "\n",
    "# Формируем пары\n",
    "if len(boys)==len(girls):\n",
    "    couple=zip(boys,girls)\n",
    "    print('Идеальные пары: ', list(couple))\n",
    "    \n",
    "else:\n",
    "    print('Результат: Внимание, кто-то может остаться без пары!')\n",
    "\n",
    "\n",
    "\n"
   ]
  },
  {
   "cell_type": "code",
   "execution_count": 2,
   "id": "ca435710",
   "metadata": {},
   "outputs": [
    {
     "name": "stdout",
     "output_type": "stream",
     "text": [
      "Средняя температура в странах:  Thailand - 23.9 C\n",
      "Средняя температура в странах:  Germany - 13.8 C\n",
      "Средняя температура в странах:  Russia - 3.7 C\n",
      "Средняя температура в странах:  Poland - 12.0 C\n"
     ]
    }
   ],
   "source": [
    "# Задание 4\n",
    "\n",
    "\"\"\"\n",
    "У нас есть список, содержащий информацию о среднедневной температуре в Фаренгейтах за произвольный период по странам \n",
    "(структура данных в примере).\n",
    "Необходимо написать код, который рассчитает среднюю температуру за период в Цельсиях(!) для каждой страны.\n",
    "\"\"\"\n",
    "countries_temperature = [\n",
    "['Thailand', [75.2, 77, 78.8, 73.4, 68, 75.2, 77]],\n",
    "['Germany', [57.2, 55.4, 59, 59, 53.6]],\n",
    "['Russia', [35.6, 37.4, 39.2, 41, 42.8, 39.2, 35.6]],\n",
    "['Poland', [50, 50, 53.6, 57.2, 55.4, 55.4]]\n",
    "]\n",
    "\n",
    "# Технический скрипт для понимания распарсивания списка выше. В результате выявлен индекс i<4 для цикла\n",
    "\n",
    "# Цикл бежит по странам и расчитывает показатель средней температуры по каждой стране, а также выводит в красивом виде\n",
    "\n",
    "i=0\n",
    "while i<4: \n",
    "    country=countries_temperature [i][0]\n",
    "    numb=round((sum(countries_temperature [i][1])/len(countries_temperature [i][1])-32)/1.8,1)\n",
    "    i+=1\n",
    "    print('Средняя температура в странах: ', country,'-', numb, 'C')\n",
    "   "
   ]
  },
  {
   "cell_type": "code",
   "execution_count": 32,
   "id": "474dfaab",
   "metadata": {},
   "outputs": [
    {
     "name": "stdout",
     "output_type": "stream",
     "text": [
      "Среднее количество визитов Пользователей -  23.25\n",
      "Среднее количество визитов Пользователя 1 -  5.25\n",
      "Среднее количество визитов Пользователя 2 -  1.75\n",
      "Среднее количество визитов Пользователя 3 -  3.5\n",
      "Среднее количество визитов Пользователя 3 -  12.75\n"
     ]
    }
   ],
   "source": [
    "# Задание 5\n",
    "\n",
    "\"\"\"\n",
    "Дан поток логов по количеству просмотренных страниц для каждого пользователя. Вам необходимо написать алгоритм, \n",
    "который считает среднее значение просмотров на пользователя. \n",
    "Т. е. надо посчитать отношение суммы всех просмотров к количеству уникальных пользователей.\n",
    "\"\"\"\n",
    "stream3 = [\n",
    "'2018-01-01,user1,3',\n",
    "'2018-01-07,user1,4',\n",
    "'2018-03-29,user1,1',\n",
    "'2018-04-04,user1,13',\n",
    "'2018-01-05,user2,7',\n",
    "'2018-06-14,user3,4',\n",
    "'2018-07-02,user3,10',\n",
    "'2018-03-21,user4,19',\n",
    "'2018-03-22,user4,4',\n",
    "'2018-04-22,user4,8',\n",
    "'2018-05-03,user4,9',\n",
    "'2018-05-11,user4,11',\n",
    "]\n",
    "\n",
    "# Находим кол-во строк в источнике\n",
    "stream_count=len(stream3)\n",
    "\n",
    "user=list()\n",
    "dateX=list()\n",
    "nmbr_visits=list()\n",
    "nmbr_visits_int=list()\n",
    "visits_user1=list()\n",
    "stream5_row=list()\n",
    "x=list()\n",
    "\n",
    "# Формируем полноценный список\n",
    "i=0\n",
    "while i<stream_count:\n",
    "    stream3T_row=(stream3[i].split(','))\n",
    "    stream5_row.append(stream3T_row)\n",
    "#    userT=stream5_row[i][1]\n",
    "    user.append(stream5_row[i][1])\n",
    "    dateX.append(stream5_row[i][0])\n",
    "    nmbr_visits.append(int(stream5_row[i][2]))\n",
    "#   print(i)\n",
    "    i+=1\n",
    "\n",
    "# Расчитываем сумму посещений\n",
    "sum_visits=sum(nmbr_visits)\n",
    "\n",
    "\n",
    "# Поиск уникальных пользователей\n",
    "unique_user=set(user)\n",
    "number_unique_user=len(unique_user)\n",
    "\n",
    "# Расчет количества визитов на пользователя\n",
    "sumnum_all=sum_visits/number_unique_user\n",
    "\n",
    "# Формируем расчет среднего количества визитов по каждому Пользователю\n",
    "sumnum1=0\n",
    "sumnum2=0\n",
    "sumnum3=0\n",
    "sumnum4=0\n",
    "for s in stream5_row:\n",
    "    if s[1]=='user1':\n",
    "        sumnum1+=int(s[2])/number_unique_user\n",
    "    elif s[1]=='user2':\n",
    "        sumnum2+=int(s[2])/number_unique_user\n",
    "    elif s[1]=='user3':\n",
    "        sumnum3+=int(s[2])/number_unique_user\n",
    "    elif s[1]=='user4':\n",
    "        sumnum4+=int(s[2])/number_unique_user\n",
    "        \n",
    "print('Среднее количество визитов Пользователей - ', sumnum_all)\n",
    "print('Среднее количество визитов Пользователя 1 - ', sumnum1)\n",
    "print('Среднее количество визитов Пользователя 2 - ', sumnum2)\n",
    "print('Среднее количество визитов Пользователя 3 - ', sumnum3)\n",
    "print('Среднее количество визитов Пользователя 3 - ', sumnum4)      \n",
    "      "
   ]
  },
  {
   "cell_type": "code",
   "execution_count": 16,
   "id": "4ac25168",
   "metadata": {},
   "outputs": [
    {
     "name": "stdout",
     "output_type": "stream",
     "text": [
      "0.5\n"
     ]
    }
   ],
   "source": [
    "### ПРИМЕР ИЗ ИНЕТА ПО СУММИРОВАНИЮ ПО УСЛОВИЮ\n",
    "\n",
    "mas = [['пуб', 0.3, 0.4],\n",
    "       ['нер', 0.5, 0.4],\n",
    "       ['нер', 0.2, 0.1]]\n",
    "\n",
    "sum_num = 0\n",
    "for m in mas:\n",
    "    if m[0] == 'нер':\n",
    "        sum_num += m[2]\n",
    "print(sum_num)\n",
    "        "
   ]
  },
  {
   "cell_type": "code",
   "execution_count": 90,
   "id": "a19dc567",
   "metadata": {},
   "outputs": [
    {
     "name": "stdout",
     "output_type": "stream",
     "text": [
      "введите числа: 1 2 3 1 2\n",
      "  1 2\n"
     ]
    }
   ],
   "source": [
    "# Задание 6\n",
    "\n",
    "\"\"\"\n",
    "Необходимо у пользователя запрашивать набор чисел разделенных пробелом.\n",
    "В результате должны выводиться числа, которые повторяются в вводе более одного раза.\n",
    "\"\"\"\n",
    "### Вводим через пробел\n",
    "number_inp=input('введите числа: ')\n",
    "\n",
    "### Расчитываем список через пробел\n",
    "number_inp_split=number_inp.split(' ')\n",
    "\n",
    "### Находим дубли\n",
    "newList= [number_inp[i] for i in range(len(number_inp)) \n",
    "          if i != number_inp.index(number_inp[i])]\n",
    "\n",
    "### Собираем в строку\n",
    "newList2=(''.join(newList))\n",
    "\n",
    "newList_set=set(newList2)\n",
    "\n",
    "print(newList2)"
   ]
  }
 ],
 "metadata": {
  "kernelspec": {
   "display_name": "Python 3",
   "language": "python",
   "name": "python3"
  },
  "language_info": {
   "codemirror_mode": {
    "name": "ipython",
    "version": 3
   },
   "file_extension": ".py",
   "mimetype": "text/x-python",
   "name": "python",
   "nbconvert_exporter": "python",
   "pygments_lexer": "ipython3",
   "version": "3.8.8"
  }
 },
 "nbformat": 4,
 "nbformat_minor": 5
}
