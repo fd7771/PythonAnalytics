{
 "cells": [
  {
   "cell_type": "code",
   "execution_count": 491,
   "id": "564f6e50",
   "metadata": {},
   "outputs": [
    {
     "name": "stdout",
     "output_type": "stream",
     "text": [
      "Результат:  {98, 35, 15, 213, 54, 119}\n"
     ]
    }
   ],
   "source": [
    "# ЗАДАЧА 1 - ОПТИМАЛЬНЫЙ ВАРИАНТ\n",
    "\n",
    "\"\"\"\n",
    "Дана переменная, в которой хранится словарь, содержащий гео-метки для каждого пользователя (пример структуры данных приведен ниже). \n",
    "Вам необходимо написать программу, которая выведет на экран множество уникальных гео-меток всех пользователей.\n",
    "\n",
    "Пример результата:\n",
    "\n",
    "Результат: {98, 35, 15, 213, 54, 119}\n",
    "\n",
    "\"\"\"\n",
    "# Исходные данные\n",
    "\n",
    "ids = {'user1': [213, 213, 213, 15, 213],\n",
    "'user2': [54, 54, 119, 119, 119],\n",
    "'user3': [213, 98, 98, 35]}\n",
    "\n",
    "# СУПЕР Объединяем значения в единый список\n",
    "ids_values=sum(ids.values(), []) \n",
    "\n",
    "# Определяю уникальные значения объединенного списка\n",
    "ids_uniq=set(ids_values)\n",
    "\n",
    "print('Результат: ', ids_uniq)"
   ]
  },
  {
   "cell_type": "code",
   "execution_count": 595,
   "id": "e8c5d701",
   "metadata": {},
   "outputs": [
    {
     "name": "stdout",
     "output_type": "stream",
     "text": [
      "Результат:  {98, 35, 15, 213, 54, 119}\n"
     ]
    }
   ],
   "source": [
    "# Задача 1 вариант через циклы\n",
    "\n",
    "# Исходные данные\n",
    "\n",
    "ids = {'user1': [213, 213, 213, 15, 213],\n",
    "'user2': [54, 54, 119, 119, 119],\n",
    "'user3': [213, 98, 98, 35]}\n",
    "\n",
    "res=[]\n",
    "\n",
    "# Объединяем value\n",
    "\n",
    "for i in ids.values():\n",
    "    res+=i\n",
    "\n",
    "# Определяю уникальные значения объединенного списка\n",
    "ids_uniq=set(ids_values)\n",
    "\n",
    "print('Результат: ', ids_uniq)\n"
   ]
  },
  {
   "cell_type": "code",
   "execution_count": 570,
   "id": "c7501ecb",
   "metadata": {},
   "outputs": [
    {
     "name": "stdout",
     "output_type": "stream",
     "text": [
      "1 Orange capitalization is 1.3\n",
      "2 Maxisoft capitalization is 1.5\n",
      "3 Headbook capitalization is 0.8\n",
      "4 Nicola capitalization is 2.2\n"
     ]
    }
   ],
   "source": [
    "companies_capitalization = [\n",
    "    ['Orange', 1.3],\n",
    "    ['Maxisoft', 1.5],\n",
    "    ['Headbook', 0.8],\n",
    "    ['Nicola', 2.2]\n",
    "]\n",
    "\n",
    "for i, company in enumerate(companies_capitalization):\n",
    "    print(i+1, company[0], 'capitalization is', company[1])"
   ]
  },
  {
   "cell_type": "code",
   "execution_count": 718,
   "id": "43c3929f",
   "metadata": {},
   "outputs": [
    {
     "name": "stdout",
     "output_type": "stream",
     "text": [
      "Результат:\n",
      "Поисковых запросов, содержащих  3  слов(а):  42.86%\n",
      "Поисковых запросов, содержащих  4  слов(а):  57.14%\n"
     ]
    }
   ],
   "source": [
    "# ЗАДАЧА 2 - ВАРИАНТ ОПТИМАЛЬНЫЙ\n",
    "\n",
    "\"\"\"\n",
    "Дана переменная, в которой хранится список поисковых запросов пользователя (пример структуры данных приведен ниже). \n",
    "Вам необходимо написать программу, которая выведет на экран распределение количества слов в запросах в требуемом виде.\n",
    "\n",
    "Требования к результату:\n",
    "Результат:\n",
    "Поисковых запросов, содержащих 2 слов(а): 42.86%\n",
    "Поисковых запросов, содержащих 3 слов(а): 57.14%\n",
    "\n",
    "\"\"\"\n",
    "# Исходные данные\n",
    "\n",
    "queries = [\n",
    "'смотреть сериалы онлайн',\n",
    "'новости спорта',\n",
    "'афиша кино',\n",
    "'курс доллара',\n",
    "'сериалы этим летом',\n",
    "'курс по питону',\n",
    "'сериалы про спорт',\n",
    "]\n",
    "\n",
    "# Решение\n",
    "\n",
    "## Объявляем список\n",
    "kol_vo_slov=[]\n",
    "\n",
    "## Находим количество слов в запросе\n",
    "for j, zapros in enumerate(queries):\n",
    "    kol_vo_slov.append(len(queries[j].split(' ')))\n",
    "\n",
    "## Расчитываем количество слов для ответа, удельные веса,  компануем ответ\n",
    "\n",
    "print('Результат:')\n",
    "\n",
    "for k in list(set(kol_vo_slov)):\n",
    "    chastota = kol_vo_slov.count(k)\n",
    "    udel_ves = chastota/(j+1)\n",
    "    print('Поисковых запросов, содержащих ', chastota,' слов(а): ', \"{:.2%}\".format(udel_ves) )\n"
   ]
  },
  {
   "cell_type": "code",
   "execution_count": 878,
   "id": "44f2fb23",
   "metadata": {},
   "outputs": [
    {
     "name": "stdout",
     "output_type": "stream",
     "text": [
      "enter some words: 12\n",
      "1\n"
     ]
    }
   ],
   "source": [
    "# Хороший пример подсчета количества слов в строке\n",
    "\n",
    "print(len(input('enter some words: ').split(' ')))"
   ]
  },
  {
   "cell_type": "code",
   "execution_count": 6,
   "id": "f58f7a62",
   "metadata": {},
   "outputs": [
    {
     "name": "stdout",
     "output_type": "stream",
     "text": [
      "[('adwords', {'ROI': 2.94, 'revenue': 35, 'cost': 34}), ('facebook', {'ROI': -6.36, 'revenue': 103, 'cost': 110}), ('twitter', {'ROI': -54.17, 'revenue': 11, 'cost': 24}), ('vk', {'ROI': 5.1, 'revenue': 103, 'cost': 98}), ('yandex', {'ROI': 16.99, 'revenue': 179, 'cost': 153})]\n"
     ]
    }
   ],
   "source": [
    "# ЗАДАЧА 3 - ОПТИМАЛЬНЫЙ ВАРИАНТ с ВЫСТРАИВАНИЕМ НУЖНОГО ПОРЯДКА КОЛОНОК И СОРТИРОВКИ ПО КЛЮЧАМ\n",
    "\n",
    "\"\"\"\n",
    "Дана переменная, в которой хранится информация о затратах и доходе рекламных кампаний по различным источникам. \n",
    "Необходимо дополнить исходную структуру показателем ROI, который рассчитаем по формуле: (revenue / cost - 1) * 100\n",
    "\n",
    "Требования к результату:\n",
    "Результат:\n",
    "{‘adwords’: {‘ROI’: 2.94, ‘cost’: 34, ‘revenue’: 35},\n",
    "‘facebook’: {‘ROI’: -6.36, ‘cost’: 110, ‘revenue’: 103},\n",
    "‘twitter’: {‘ROI’: -54.17, ‘cost’: 24, ‘revenue’: 11},\n",
    "‘vk’: {‘ROI’: 5.1, ‘cost’: 98, ‘revenue’: 103},\n",
    "‘yandex’: {‘ROI’: 16.99, ‘cost’: 153, ‘revenue’: 179}}\n",
    "\n",
    "\"\"\"\n",
    "# Исходные данные\n",
    "\n",
    "results = {\n",
    "'vk': {'revenue': 103, 'cost': 98},\n",
    "'yandex': {'revenue': 179, 'cost': 153},\n",
    "'facebook': {'revenue': 103, 'cost': 110},\n",
    "'adwords': {'revenue': 35, 'cost': 34},\n",
    "'twitter': {'revenue': 11, 'cost': 24},\n",
    "}\n",
    "\n",
    "# Решение - формируем в цикле\n",
    "res = {} \n",
    "for key, value in results.items():\n",
    "    res[key] = {}\n",
    "    res[key]['ROI'] = round(((value['revenue'] / value['cost']) - 1)*100 , 2)\n",
    "    res[key]['revenue'] = value['revenue']\n",
    "    res[key]['cost'] = value['cost']\n",
    "    newlist = sorted(res.items())\n",
    "print(newlist)"
   ]
  },
  {
   "cell_type": "code",
   "execution_count": 4,
   "id": "9fa473f4",
   "metadata": {},
   "outputs": [
    {
     "name": "stdout",
     "output_type": "stream",
     "text": [
      "[('adwords', {'revenue': 35, 'cost': 34, 'ROI': '2.94'}), ('facebook', {'revenue': 103, 'cost': 110, 'ROI': '-6.36'}), ('twitter', {'revenue': 11, 'cost': 24, 'ROI': '-54.17'}), ('vk', {'revenue': 103, 'cost': 98, 'ROI': '5.10'}), ('yandex', {'revenue': 179, 'cost': 153, 'ROI': '16.99'})]\n"
     ]
    }
   ],
   "source": [
    "# ЗАДАЧА 3 - БЕЗ СОРТИРОВКИ КОЛОНОК С СОРТИРОВКОЙ ПО КЛЮЧАМ\n",
    "\n",
    "# Исходные данные\n",
    "\n",
    "results = {\n",
    "'vk': {'revenue': 103, 'cost': 98},\n",
    "'yandex': {'revenue': 179, 'cost': 153},\n",
    "'facebook': {'revenue': 103, 'cost': 110},\n",
    "'adwords': {'revenue': 35, 'cost': 34},\n",
    "'twitter': {'revenue': 11, 'cost': 24},\n",
    "}\n",
    "\n",
    "# Решение - формируем в цикле\n",
    "for i in results.items():\n",
    "    results[i[0]]['ROI']=\"{:.2f}\".format((results[i[0]]['revenue']/results[i[0]]['cost']-1)*100)\n",
    "    newlist = sorted(results.items())\n",
    "\n",
    "print(newlist)"
   ]
  },
  {
   "cell_type": "code",
   "execution_count": 1028,
   "id": "0d9a9196",
   "metadata": {},
   "outputs": [
    {
     "name": "stdout",
     "output_type": "stream",
     "text": [
      "Результат: Максимальный объем продаж на рекламном канале:  vk\n"
     ]
    }
   ],
   "source": [
    "# ЗАДАЧА 4 \n",
    "\n",
    "\"\"\"\n",
    "Дана переменная, в которой хранится статистика рекламных каналов по объемам продаж (пример структуры данных приведен ниже). \n",
    "Напишите программу, которая возвращает название канала с максимальным объемом продаж.\n",
    "\n",
    "Требования к результату:\n",
    "Результат: Максимальный объем продаж на рекламном канале: vk\n",
    "\n",
    "\"\"\"\n",
    "# Исходные данные\n",
    "stats = {'facebook': 55, 'yandex': 115, 'vk': 120, 'google': 99, 'email': 42, 'ok': 98}\n",
    "\n",
    "# Объявляем списки\n",
    "stats_value_list=[]\n",
    "stats_max=[]\n",
    "\n",
    "# Формируем список значений\n",
    "for i in stats.values():\n",
    "    stats_value_list.append(i)\n",
    "\n",
    "# Находим максимальное значение\n",
    "stats_max=max(stats_value_list)\n",
    "\n",
    "# Осуществляем поиск ключа по значению\n",
    "print('Результат: Максимальный объем продаж на рекламном канале: ',\n",
    "      list(stats.keys())[list(stats.values()).index(stats_max)])\n",
    "\n",
    "    "
   ]
  },
  {
   "cell_type": "code",
   "execution_count": 169,
   "id": "266a3ca4",
   "metadata": {},
   "outputs": [
    {
     "name": "stdout",
     "output_type": "stream",
     "text": [
      "{'2018-01-01': {'yandex': {'cpc': 100}}}\n"
     ]
    }
   ],
   "source": [
    "# ЗАДАЧА 5 НЕДОЗАВЕРШЕНА (ПОМОГИТЕ ПЖЛ) т.к. не знаю как сделать динамическим добавление VALUE вложенного словаря\n",
    "\n",
    "\n",
    "\"\"\"\n",
    "Дан список произвольной длины. \n",
    "Необходимо написать код, который на основе исходного списка составит словарь такого уровня вложенности, какова длина исхондого списка.\n",
    "\n",
    "my_list = [‘2018-01-01’, ‘yandex’, ‘cpc’, 100]\n",
    "Результат: {‘2018-01-01’: {‘yandex’: {‘cpc’: 100}}}\n",
    "\n",
    "my_list = [‘a’, ‘b’, ‘c’, ‘d’, ‘e’, ‘f’]\n",
    "Результат: {‘a’: {‘b’: {‘c’: {‘d’: {‘e’: ‘f’}}}}}\n",
    "\n",
    "\"\"\"\n",
    "# Исходные данные\n",
    "my_list = ['2018-01-01', 'yandex', 'cpc', 100]\n",
    "\n",
    "# my_list = [‘a’, ‘b’, ‘c’, ‘d’, ‘e’, ‘f’]\n",
    "\n",
    "## Формируем список без последнего значения\n",
    "tree_list=(my_list[:-1])\n",
    "\n",
    "## Находим последнее значение для словаря\n",
    "ind_last_value=(len(my_list)-1)\n",
    "last_value=my_list[ind_last_value]\n",
    "#print(last_value)\n",
    "\n",
    "## Создаем словарь\n",
    "tree_dict={}\n",
    "\n",
    "## Создаем цикл для добавления ключей\n",
    "for key in reversed(tree_list):\n",
    "    tree_dict={key: tree_dict}\n",
    "\n",
    "## Проставляем value\n",
    "tree_dict[my_list[0]][my_list[1]][my_list[2]] = last_value \n",
    "\n",
    "print(tree_dict)\n",
    "\n"
   ]
  }
 ],
 "metadata": {
  "kernelspec": {
   "display_name": "Python 3",
   "language": "python",
   "name": "python3"
  },
  "language_info": {
   "codemirror_mode": {
    "name": "ipython",
    "version": 3
   },
   "file_extension": ".py",
   "mimetype": "text/x-python",
   "name": "python",
   "nbconvert_exporter": "python",
   "pygments_lexer": "ipython3",
   "version": "3.8.8"
  }
 },
 "nbformat": 4,
 "nbformat_minor": 5
}
