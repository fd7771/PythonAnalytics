{
 "cells": [
  {
   "cell_type": "code",
   "execution_count": 3,
   "id": "82522ada",
   "metadata": {},
   "outputs": [],
   "source": [
    "#################################### ЗАДАЧА 1 ###############################################################\n",
    "# Импорт json\n",
    "import json\n",
    "\n",
    "\"\"\"\n",
    "Переведите содержимое файла purchase_log.txt в словарь purchases вида:\n",
    "{‘1840e0b9d4’: ‘Продукты’, …}\n",
    "\"\"\"\n",
    "\n",
    "## Присваимаем файл переменной и закрываем файл\n",
    "purchases={}\n",
    "\n",
    "# Открываем файл, создаем словарь, создаем новый словарь\n",
    "\n",
    "with open('purchase_log.txt','r', encoding='utf-8') as f:\n",
    "    for i, num in enumerate(f):\n",
    "#        j=i для отладки\n",
    "#        if i<5: для отладки\n",
    "            dict_py=json.loads(num)\n",
    "            user_id_new=dict_py['user_id']\n",
    "            purchases[user_id_new]=dict_py['category']        \n",
    "#        else: для отладки\n",
    "#            break для отладки\n",
    "            \n",
    "# Для отладки - проверяем получившиеся данные\n",
    "# for k,m in purchases.items():\n",
    "#    print(k,m)\n",
    "    \n",
    "#################################### ЗАДАЧА 2 ###############################################################\n",
    "\n",
    "\"\"\"\n",
    "Для каждого user_id в файле visit_log.csv определите третий столбец с категорией покупки \n",
    "(если покупка была, сам файл visit_log.csv изменять не надо). \n",
    "Запишите в файл funnel.csv визиты из файла visit_log.csv, в которых были покупки с указанием категории.\n",
    "\"\"\"\n",
    "\n",
    "# Осуществляем поиск в файле источнике, копируем данные\n",
    "with open('funnel_log.csv4', 'w') as res:\n",
    "    with open('visit_log.csv', 'r') as vis:\n",
    "            for line in vis:\n",
    "                user_id = line.strip().split(',')[0]\n",
    "                category = purchases.get(user_id)   \n",
    "                if category:\n",
    "                    line_exp = line.rstrip() + ', ' + str(category) + '\\r'\n",
    "                    res.write(line_exp)\n"
   ]
  }
 ],
 "metadata": {
  "kernelspec": {
   "display_name": "Python 3",
   "language": "python",
   "name": "python3"
  },
  "language_info": {
   "codemirror_mode": {
    "name": "ipython",
    "version": 3
   },
   "file_extension": ".py",
   "mimetype": "text/x-python",
   "name": "python",
   "nbconvert_exporter": "python",
   "pygments_lexer": "ipython3",
   "version": "3.8.8"
  }
 },
 "nbformat": 4,
 "nbformat_minor": 5
}
