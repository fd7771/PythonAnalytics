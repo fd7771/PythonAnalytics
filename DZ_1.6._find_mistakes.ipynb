{
 "cells": [
  {
   "cell_type": "code",
   "execution_count": 157,
   "id": "89b92797",
   "metadata": {},
   "outputs": [
    {
     "name": "stdout",
     "output_type": "stream",
     "text": [
      "Формат The Moscow Times:  2002-10-02 00:00:00\n",
      "Формат The Guardian:  2011-10-13 00:00:00\n",
      "Формат Daily News:  1977-08-18 00:00:00\n"
     ]
    }
   ],
   "source": [
    "# Задание 1\n",
    "\n",
    "\"\"\"\n",
    "Печатные газеты использовали свой формат дат для каждого выпуска. \n",
    "Для каждой газеты из списка напишите формат указанной даты для перевода в объект datetime:\n",
    "The Moscow Times - Wednesday, October 2, 2002\n",
    "The Guardian - Friday, 11.10.13\n",
    "Daily News - Thursday, 18 August 1977\n",
    "\"\"\"\n",
    "# https://docs.python.org/3/library/datetime.html\n",
    "\n",
    "\n",
    "## Импортируем библиотеку datetime\n",
    "from datetime import datetime\n",
    "from datetime import time, timedelta\n",
    "\n",
    "## Формат Moscow Times\n",
    "string_moscow_times='Wednesday, October 2, 2002'\n",
    "date_moscow_times = datetime.strptime( string_moscow_times, '%A, %B %d, %Y' )\n",
    "print('Формат The Moscow Times: ', date_moscow_times)\n",
    "\n",
    "## Формат The Guardian\n",
    "string_guardian='Friday, 11.10.13'\n",
    "date_guardian = datetime.strptime( string_guardian, '%A, %y.%m.%d' )\n",
    "print('Формат The Guardian: ', date_guardian)\n",
    "\n",
    "## Формат Daily News\n",
    "string_daily_news='Thursday, 18 August 1977'\n",
    "date_daily_news = datetime.strptime( string_daily_news, '%A, %d %B %Y' )\n",
    "print('Формат Daily News: ', date_daily_news)\n"
   ]
  },
  {
   "cell_type": "code",
   "execution_count": 158,
   "id": "e6229560",
   "metadata": {},
   "outputs": [
    {
     "name": "stdout",
     "output_type": "stream",
     "text": [
      "2018-04-02 True (дата корректна)\n",
      "2018-02-29 False (некорректная дата)\n",
      "2018-19-02 False (некорректная дата)\n"
     ]
    }
   ],
   "source": [
    "# Задание 2 \n",
    "\n",
    "\"\"\"\n",
    "Дан поток дат в формате YYYY-MM-DD, в которых встречаются некорректные значения:\n",
    "stream = [‘2018-04-02’, ‘2018-02-29’, ‘2018-19-02’]\n",
    "\n",
    "Напишите функцию, которая проверяет эти даты на корректность. \n",
    "Т. е. для каждой даты возвращает True (дата корректна) или False (некорректная дата).\n",
    "\"\"\"\n",
    "\n",
    "## Список дат для проверки \n",
    "stream = ['2018-04-02', '2018-02-29', '2018-19-02']\n",
    "\n",
    "## Функция проверки дат\n",
    "def check_dates(stream):\n",
    "    for dates in stream:\n",
    "        try:\n",
    "            check_date = datetime.strptime(dates, '%Y-%m-%d')\n",
    "            print(dates, 'True (дата корректна)')\n",
    "        except:\n",
    "            print(dates,'False (некорректная дата)')\n",
    "\n",
    "## Вывод результата\n",
    "check_dates(stream)\n",
    "            "
   ]
  },
  {
   "cell_type": "code",
   "execution_count": 159,
   "id": "9d9fa5aa",
   "metadata": {},
   "outputs": [
    {
     "name": "stdout",
     "output_type": "stream",
     "text": [
      "Введите начальную дату :2021-08-01\n",
      "Введите конечную дату :2021-08-18\n",
      "2021-08-01 00:00:00\n",
      "2021-08-02 00:00:00\n",
      "2021-08-03 00:00:00\n",
      "2021-08-04 00:00:00\n",
      "2021-08-05 00:00:00\n",
      "2021-08-06 00:00:00\n",
      "2021-08-07 00:00:00\n",
      "2021-08-08 00:00:00\n",
      "2021-08-09 00:00:00\n",
      "2021-08-10 00:00:00\n",
      "2021-08-11 00:00:00\n",
      "2021-08-12 00:00:00\n",
      "2021-08-13 00:00:00\n",
      "2021-08-14 00:00:00\n",
      "2021-08-15 00:00:00\n",
      "2021-08-16 00:00:00\n",
      "2021-08-17 00:00:00\n",
      "2021-08-18 00:00:00\n"
     ]
    }
   ],
   "source": [
    "# Задание 3\n",
    "\n",
    "\"\"\"\n",
    "Напишите функцию date_range, которая возвращает список дат за период от start_date до end_date. \n",
    "Даты должны вводиться в формате YYYY-MM-DD. \n",
    "В случае неверного формата или при start_date > end_date должен возвращаться пустой список.\n",
    "\"\"\"\n",
    "\n",
    "## Вводим данные\n",
    "start_date_inp = input('Введите начальную дату :')\n",
    "end_date_inp = input('Введите конечную дату :')\n",
    "\n",
    "\n",
    "## Создаем функцию по списку дат за период от начальной и конечной даты\n",
    "def date_range(start_date_inp, end_date_inp):\n",
    "    try:\n",
    "        start_date = datetime.strptime(start_date_inp,'%Y-%m-%d')\n",
    "        end_date = datetime.strptime(end_date_inp,'%Y-%m-%d')\n",
    "\n",
    "        if start_date < end_date:\n",
    "            for day_list in range(int((end_date - start_date).days + 1)):\n",
    "                date_list = start_date + timedelta(day_list)\n",
    "                print(date_list )\n",
    "    except:\n",
    "        pass\n",
    "#    return(date_list) ПРЕПОДАВАТЕЛЮ - НЕ ПОНИМАЮ КАК СДЕЛАТЬ МНОЖЕСТВЕННЫЙ RETURN\n",
    "\n",
    "date_range(start_date_inp, end_date_inp)\n"
   ]
  }
 ],
 "metadata": {
  "kernelspec": {
   "display_name": "Python 3",
   "language": "python",
   "name": "python3"
  },
  "language_info": {
   "codemirror_mode": {
    "name": "ipython",
    "version": 3
   },
   "file_extension": ".py",
   "mimetype": "text/x-python",
   "name": "python",
   "nbconvert_exporter": "python",
   "pygments_lexer": "ipython3",
   "version": "3.8.8"
  }
 },
 "nbformat": 4,
 "nbformat_minor": 5
}
