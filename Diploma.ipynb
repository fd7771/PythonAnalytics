{
  "nbformat": 4,
  "nbformat_minor": 0,
  "metadata": {
    "colab": {
      "name": "Diploma.ipynb",
      "provenance": [],
      "collapsed_sections": [
        "BsGt3B6UvHco",
        "RG2AVGZGuvCV",
        "6mtyBCg1uDTs",
        "3rFtaJRathSh",
        "kPgQfr1rsMQm",
        "Fa_ggOd-qYWB",
        "D_w6tuIOpKuh",
        "S-w4mBdf60L5"
      ]
    },
    "kernelspec": {
      "name": "python3",
      "display_name": "Python 3"
    },
    "language_info": {
      "name": "python"
    }
  },
  "cells": [
    {
      "cell_type": "code",
      "source": [
        "import pandas as pd\n",
        "import numpy as np\n",
        "import matplotlib.pyplot as plt\n",
        "import seaborn as sns\n",
        "from sklearn.model_selection import train_test_split\n",
        "from sklearn.discriminant_analysis import LinearDiscriminantAnalysis\n",
        "from sklearn.metrics import accuracy_score"
      ],
      "metadata": {
        "id": "XqNHMf3uMuCJ"
      },
      "execution_count": 137,
      "outputs": []
    },
    {
      "cell_type": "markdown",
      "source": [
        "#Задание 1 Загрузите файл HR.csv в pandas dataframe (5)"
      ],
      "metadata": {
        "id": "BsGt3B6UvHco"
      }
    },
    {
      "cell_type": "code",
      "execution_count": null,
      "metadata": {
        "id": "IrjD1jkKL3vO",
        "colab": {
          "base_uri": "https://localhost:8080/",
          "height": 206
        },
        "outputId": "73f4f97c-c1a5-498f-dd5b-d2ba94ebff06"
      },
      "outputs": [
        {
          "output_type": "execute_result",
          "data": {
            "text/html": [
              "\n",
              "  <div id=\"df-a3a448b6-a0ca-4f42-9f53-7686dad3f134\">\n",
              "    <div class=\"colab-df-container\">\n",
              "      <div>\n",
              "<style scoped>\n",
              "    .dataframe tbody tr th:only-of-type {\n",
              "        vertical-align: middle;\n",
              "    }\n",
              "\n",
              "    .dataframe tbody tr th {\n",
              "        vertical-align: top;\n",
              "    }\n",
              "\n",
              "    .dataframe thead th {\n",
              "        text-align: right;\n",
              "    }\n",
              "</style>\n",
              "<table border=\"1\" class=\"dataframe\">\n",
              "  <thead>\n",
              "    <tr style=\"text-align: right;\">\n",
              "      <th></th>\n",
              "      <th>satisfaction_level</th>\n",
              "      <th>last_evaluation</th>\n",
              "      <th>number_project</th>\n",
              "      <th>average_montly_hours</th>\n",
              "      <th>time_spend_company</th>\n",
              "      <th>Work_accident</th>\n",
              "      <th>left</th>\n",
              "      <th>promotion_last_5years</th>\n",
              "      <th>department</th>\n",
              "      <th>salary</th>\n",
              "    </tr>\n",
              "  </thead>\n",
              "  <tbody>\n",
              "    <tr>\n",
              "      <th>0</th>\n",
              "      <td>0.38</td>\n",
              "      <td>0.53</td>\n",
              "      <td>2</td>\n",
              "      <td>157</td>\n",
              "      <td>3</td>\n",
              "      <td>0</td>\n",
              "      <td>1</td>\n",
              "      <td>0</td>\n",
              "      <td>sales</td>\n",
              "      <td>low</td>\n",
              "    </tr>\n",
              "    <tr>\n",
              "      <th>1</th>\n",
              "      <td>0.80</td>\n",
              "      <td>0.86</td>\n",
              "      <td>5</td>\n",
              "      <td>262</td>\n",
              "      <td>6</td>\n",
              "      <td>0</td>\n",
              "      <td>1</td>\n",
              "      <td>0</td>\n",
              "      <td>sales</td>\n",
              "      <td>medium</td>\n",
              "    </tr>\n",
              "    <tr>\n",
              "      <th>2</th>\n",
              "      <td>0.11</td>\n",
              "      <td>0.88</td>\n",
              "      <td>7</td>\n",
              "      <td>272</td>\n",
              "      <td>4</td>\n",
              "      <td>0</td>\n",
              "      <td>1</td>\n",
              "      <td>0</td>\n",
              "      <td>sales</td>\n",
              "      <td>medium</td>\n",
              "    </tr>\n",
              "    <tr>\n",
              "      <th>3</th>\n",
              "      <td>0.72</td>\n",
              "      <td>0.87</td>\n",
              "      <td>5</td>\n",
              "      <td>223</td>\n",
              "      <td>5</td>\n",
              "      <td>0</td>\n",
              "      <td>1</td>\n",
              "      <td>0</td>\n",
              "      <td>sales</td>\n",
              "      <td>low</td>\n",
              "    </tr>\n",
              "    <tr>\n",
              "      <th>4</th>\n",
              "      <td>0.37</td>\n",
              "      <td>0.52</td>\n",
              "      <td>2</td>\n",
              "      <td>159</td>\n",
              "      <td>3</td>\n",
              "      <td>0</td>\n",
              "      <td>1</td>\n",
              "      <td>0</td>\n",
              "      <td>sales</td>\n",
              "      <td>low</td>\n",
              "    </tr>\n",
              "  </tbody>\n",
              "</table>\n",
              "</div>\n",
              "      <button class=\"colab-df-convert\" onclick=\"convertToInteractive('df-a3a448b6-a0ca-4f42-9f53-7686dad3f134')\"\n",
              "              title=\"Convert this dataframe to an interactive table.\"\n",
              "              style=\"display:none;\">\n",
              "        \n",
              "  <svg xmlns=\"http://www.w3.org/2000/svg\" height=\"24px\"viewBox=\"0 0 24 24\"\n",
              "       width=\"24px\">\n",
              "    <path d=\"M0 0h24v24H0V0z\" fill=\"none\"/>\n",
              "    <path d=\"M18.56 5.44l.94 2.06.94-2.06 2.06-.94-2.06-.94-.94-2.06-.94 2.06-2.06.94zm-11 1L8.5 8.5l.94-2.06 2.06-.94-2.06-.94L8.5 2.5l-.94 2.06-2.06.94zm10 10l.94 2.06.94-2.06 2.06-.94-2.06-.94-.94-2.06-.94 2.06-2.06.94z\"/><path d=\"M17.41 7.96l-1.37-1.37c-.4-.4-.92-.59-1.43-.59-.52 0-1.04.2-1.43.59L10.3 9.45l-7.72 7.72c-.78.78-.78 2.05 0 2.83L4 21.41c.39.39.9.59 1.41.59.51 0 1.02-.2 1.41-.59l7.78-7.78 2.81-2.81c.8-.78.8-2.07 0-2.86zM5.41 20L4 18.59l7.72-7.72 1.47 1.35L5.41 20z\"/>\n",
              "  </svg>\n",
              "      </button>\n",
              "      \n",
              "  <style>\n",
              "    .colab-df-container {\n",
              "      display:flex;\n",
              "      flex-wrap:wrap;\n",
              "      gap: 12px;\n",
              "    }\n",
              "\n",
              "    .colab-df-convert {\n",
              "      background-color: #E8F0FE;\n",
              "      border: none;\n",
              "      border-radius: 50%;\n",
              "      cursor: pointer;\n",
              "      display: none;\n",
              "      fill: #1967D2;\n",
              "      height: 32px;\n",
              "      padding: 0 0 0 0;\n",
              "      width: 32px;\n",
              "    }\n",
              "\n",
              "    .colab-df-convert:hover {\n",
              "      background-color: #E2EBFA;\n",
              "      box-shadow: 0px 1px 2px rgba(60, 64, 67, 0.3), 0px 1px 3px 1px rgba(60, 64, 67, 0.15);\n",
              "      fill: #174EA6;\n",
              "    }\n",
              "\n",
              "    [theme=dark] .colab-df-convert {\n",
              "      background-color: #3B4455;\n",
              "      fill: #D2E3FC;\n",
              "    }\n",
              "\n",
              "    [theme=dark] .colab-df-convert:hover {\n",
              "      background-color: #434B5C;\n",
              "      box-shadow: 0px 1px 3px 1px rgba(0, 0, 0, 0.15);\n",
              "      filter: drop-shadow(0px 1px 2px rgba(0, 0, 0, 0.3));\n",
              "      fill: #FFFFFF;\n",
              "    }\n",
              "  </style>\n",
              "\n",
              "      <script>\n",
              "        const buttonEl =\n",
              "          document.querySelector('#df-a3a448b6-a0ca-4f42-9f53-7686dad3f134 button.colab-df-convert');\n",
              "        buttonEl.style.display =\n",
              "          google.colab.kernel.accessAllowed ? 'block' : 'none';\n",
              "\n",
              "        async function convertToInteractive(key) {\n",
              "          const element = document.querySelector('#df-a3a448b6-a0ca-4f42-9f53-7686dad3f134');\n",
              "          const dataTable =\n",
              "            await google.colab.kernel.invokeFunction('convertToInteractive',\n",
              "                                                     [key], {});\n",
              "          if (!dataTable) return;\n",
              "\n",
              "          const docLinkHtml = 'Like what you see? Visit the ' +\n",
              "            '<a target=\"_blank\" href=https://colab.research.google.com/notebooks/data_table.ipynb>data table notebook</a>'\n",
              "            + ' to learn more about interactive tables.';\n",
              "          element.innerHTML = '';\n",
              "          dataTable['output_type'] = 'display_data';\n",
              "          await google.colab.output.renderOutput(dataTable, element);\n",
              "          const docLink = document.createElement('div');\n",
              "          docLink.innerHTML = docLinkHtml;\n",
              "          element.appendChild(docLink);\n",
              "        }\n",
              "      </script>\n",
              "    </div>\n",
              "  </div>\n",
              "  "
            ],
            "text/plain": [
              "   satisfaction_level  last_evaluation  ...  department  salary\n",
              "0                0.38             0.53  ...       sales     low\n",
              "1                0.80             0.86  ...       sales  medium\n",
              "2                0.11             0.88  ...       sales  medium\n",
              "3                0.72             0.87  ...       sales     low\n",
              "4                0.37             0.52  ...       sales     low\n",
              "\n",
              "[5 rows x 10 columns]"
            ]
          },
          "metadata": {},
          "execution_count": 4
        }
      ],
      "source": [
        "url = 'https://drive.google.com/file/d/1JexZd7XP8qdaqHI2bxM-CxNdHeTwpAPZ/view?usp=sharing'\n",
        "path = 'https://drive.google.com/uc?export=download&id='+url.split('/')[-2]\n",
        "df = pd.read_csv(path, sep=',')\n",
        "\n",
        "df.head()\n",
        "#df.info()"
      ]
    },
    {
      "cell_type": "markdown",
      "source": [
        "# Задание 2 Рассчитайте основные статистики для переменных (среднее,медиана,мода,мин/макс,сред.отклонение) (10)"
      ],
      "metadata": {
        "id": "RG2AVGZGuvCV"
      }
    },
    {
      "cell_type": "code",
      "source": [
        "## 2) Рассчитайте основные статистики для переменных(среднее,медиана,мода,мин/макс,сред.отклонение). (10)\n",
        "\n",
        "\n",
        "### Расчет среднего\n",
        "Mean_items = df.mean()\n",
        "print(\"Среднее по расчетным переменным:\\n\",Mean_items)\n",
        "\n",
        "### Расчет медианы\n",
        "Median_items = df.median()\n",
        "print(\"\\nМедиана по расчетным переменным:\\n\",Median_items)\n",
        "\n",
        "### Расчет моды\n",
        "pd.options.display.max_columns = 50\n",
        "Mode_items=df[['satisfaction_level', 'last_evaluation', 'number_project', 'average_montly_hours', 'time_spend_company', 'Work_accident', 'left', 'promotion_last_5years']].mode()\n",
        "print(\"\\nМода по расчетным переменным:\\n\",Mode_items, \"\\n\")\n",
        "\n",
        "### Расчет мин макс\n",
        "Min_items = df.min(numeric_only=True )\n",
        "Max_items = df.max(numeric_only=True )\n",
        "print(\"\\nМин по расчетным переменным:\\n\",Min_items)\n",
        "print(\"\\nМакс по расчетным переменным:\\n\",Max_items)\n",
        "\n",
        "### Расчет среднего отклонения\n",
        "Std_items = df.std(numeric_only=True)\n",
        "print(\"\\nСреднее отклонение по расчетным переменным:\\n\",Std_items, \"\\n\")\n",
        "\n",
        "### Если прочие показатели не мешают, то удобнее их анализировать в таблице\n",
        "df.describe()\n"
      ],
      "metadata": {
        "colab": {
          "base_uri": "https://localhost:8080/",
          "height": 1000
        },
        "id": "gGTkfVKxNtZo",
        "outputId": "e64010fd-3e33-44ef-bb47-7815d6e0820f"
      },
      "execution_count": null,
      "outputs": [
        {
          "output_type": "stream",
          "name": "stdout",
          "text": [
            "Среднее по расчетным переменным:\n",
            " satisfaction_level         0.612834\n",
            "last_evaluation            0.716102\n",
            "number_project             3.803054\n",
            "average_montly_hours     201.050337\n",
            "time_spend_company         3.498233\n",
            "Work_accident              0.144610\n",
            "left                       0.238083\n",
            "promotion_last_5years      0.021268\n",
            "dtype: float64\n",
            "\n",
            "Медиана по расчетным переменным:\n",
            " satisfaction_level         0.64\n",
            "last_evaluation            0.72\n",
            "number_project             4.00\n",
            "average_montly_hours     200.00\n",
            "time_spend_company         3.00\n",
            "Work_accident              0.00\n",
            "left                       0.00\n",
            "promotion_last_5years      0.00\n",
            "dtype: float64\n",
            "\n",
            "Мода по расчетным переменным:\n",
            "    satisfaction_level  last_evaluation  number_project  average_montly_hours  \\\n",
            "0                 0.1             0.55             4.0                   135   \n",
            "1                 NaN              NaN             NaN                   156   \n",
            "\n",
            "   time_spend_company  Work_accident  left  promotion_last_5years  \n",
            "0                 3.0            0.0   0.0                    0.0  \n",
            "1                 NaN            NaN   NaN                    NaN   \n",
            "\n",
            "\n",
            "Мин по расчетным переменным:\n",
            " satisfaction_level        0.09\n",
            "last_evaluation           0.36\n",
            "number_project            2.00\n",
            "average_montly_hours     96.00\n",
            "time_spend_company        2.00\n",
            "Work_accident             0.00\n",
            "left                      0.00\n",
            "promotion_last_5years     0.00\n",
            "dtype: float64\n",
            "\n",
            "Макс по расчетным переменным:\n",
            " satisfaction_level         1.0\n",
            "last_evaluation            1.0\n",
            "number_project             7.0\n",
            "average_montly_hours     310.0\n",
            "time_spend_company        10.0\n",
            "Work_accident              1.0\n",
            "left                       1.0\n",
            "promotion_last_5years      1.0\n",
            "dtype: float64\n",
            "\n",
            "Среднее отклонение по расчетным переменным:\n",
            " satisfaction_level        0.248631\n",
            "last_evaluation           0.171169\n",
            "number_project            1.232592\n",
            "average_montly_hours     49.943099\n",
            "time_spend_company        1.460136\n",
            "Work_accident             0.351719\n",
            "left                      0.425924\n",
            "promotion_last_5years     0.144281\n",
            "dtype: float64 \n",
            "\n"
          ]
        },
        {
          "output_type": "execute_result",
          "data": {
            "text/html": [
              "\n",
              "  <div id=\"df-957be494-72ad-4d77-b296-85edb3c61f5a\">\n",
              "    <div class=\"colab-df-container\">\n",
              "      <div>\n",
              "<style scoped>\n",
              "    .dataframe tbody tr th:only-of-type {\n",
              "        vertical-align: middle;\n",
              "    }\n",
              "\n",
              "    .dataframe tbody tr th {\n",
              "        vertical-align: top;\n",
              "    }\n",
              "\n",
              "    .dataframe thead th {\n",
              "        text-align: right;\n",
              "    }\n",
              "</style>\n",
              "<table border=\"1\" class=\"dataframe\">\n",
              "  <thead>\n",
              "    <tr style=\"text-align: right;\">\n",
              "      <th></th>\n",
              "      <th>satisfaction_level</th>\n",
              "      <th>last_evaluation</th>\n",
              "      <th>number_project</th>\n",
              "      <th>average_montly_hours</th>\n",
              "      <th>time_spend_company</th>\n",
              "      <th>Work_accident</th>\n",
              "      <th>left</th>\n",
              "      <th>promotion_last_5years</th>\n",
              "    </tr>\n",
              "  </thead>\n",
              "  <tbody>\n",
              "    <tr>\n",
              "      <th>count</th>\n",
              "      <td>14999.000000</td>\n",
              "      <td>14999.000000</td>\n",
              "      <td>14999.000000</td>\n",
              "      <td>14999.000000</td>\n",
              "      <td>14999.000000</td>\n",
              "      <td>14999.000000</td>\n",
              "      <td>14999.000000</td>\n",
              "      <td>14999.000000</td>\n",
              "    </tr>\n",
              "    <tr>\n",
              "      <th>mean</th>\n",
              "      <td>0.612834</td>\n",
              "      <td>0.716102</td>\n",
              "      <td>3.803054</td>\n",
              "      <td>201.050337</td>\n",
              "      <td>3.498233</td>\n",
              "      <td>0.144610</td>\n",
              "      <td>0.238083</td>\n",
              "      <td>0.021268</td>\n",
              "    </tr>\n",
              "    <tr>\n",
              "      <th>std</th>\n",
              "      <td>0.248631</td>\n",
              "      <td>0.171169</td>\n",
              "      <td>1.232592</td>\n",
              "      <td>49.943099</td>\n",
              "      <td>1.460136</td>\n",
              "      <td>0.351719</td>\n",
              "      <td>0.425924</td>\n",
              "      <td>0.144281</td>\n",
              "    </tr>\n",
              "    <tr>\n",
              "      <th>min</th>\n",
              "      <td>0.090000</td>\n",
              "      <td>0.360000</td>\n",
              "      <td>2.000000</td>\n",
              "      <td>96.000000</td>\n",
              "      <td>2.000000</td>\n",
              "      <td>0.000000</td>\n",
              "      <td>0.000000</td>\n",
              "      <td>0.000000</td>\n",
              "    </tr>\n",
              "    <tr>\n",
              "      <th>25%</th>\n",
              "      <td>0.440000</td>\n",
              "      <td>0.560000</td>\n",
              "      <td>3.000000</td>\n",
              "      <td>156.000000</td>\n",
              "      <td>3.000000</td>\n",
              "      <td>0.000000</td>\n",
              "      <td>0.000000</td>\n",
              "      <td>0.000000</td>\n",
              "    </tr>\n",
              "    <tr>\n",
              "      <th>50%</th>\n",
              "      <td>0.640000</td>\n",
              "      <td>0.720000</td>\n",
              "      <td>4.000000</td>\n",
              "      <td>200.000000</td>\n",
              "      <td>3.000000</td>\n",
              "      <td>0.000000</td>\n",
              "      <td>0.000000</td>\n",
              "      <td>0.000000</td>\n",
              "    </tr>\n",
              "    <tr>\n",
              "      <th>75%</th>\n",
              "      <td>0.820000</td>\n",
              "      <td>0.870000</td>\n",
              "      <td>5.000000</td>\n",
              "      <td>245.000000</td>\n",
              "      <td>4.000000</td>\n",
              "      <td>0.000000</td>\n",
              "      <td>0.000000</td>\n",
              "      <td>0.000000</td>\n",
              "    </tr>\n",
              "    <tr>\n",
              "      <th>max</th>\n",
              "      <td>1.000000</td>\n",
              "      <td>1.000000</td>\n",
              "      <td>7.000000</td>\n",
              "      <td>310.000000</td>\n",
              "      <td>10.000000</td>\n",
              "      <td>1.000000</td>\n",
              "      <td>1.000000</td>\n",
              "      <td>1.000000</td>\n",
              "    </tr>\n",
              "  </tbody>\n",
              "</table>\n",
              "</div>\n",
              "      <button class=\"colab-df-convert\" onclick=\"convertToInteractive('df-957be494-72ad-4d77-b296-85edb3c61f5a')\"\n",
              "              title=\"Convert this dataframe to an interactive table.\"\n",
              "              style=\"display:none;\">\n",
              "        \n",
              "  <svg xmlns=\"http://www.w3.org/2000/svg\" height=\"24px\"viewBox=\"0 0 24 24\"\n",
              "       width=\"24px\">\n",
              "    <path d=\"M0 0h24v24H0V0z\" fill=\"none\"/>\n",
              "    <path d=\"M18.56 5.44l.94 2.06.94-2.06 2.06-.94-2.06-.94-.94-2.06-.94 2.06-2.06.94zm-11 1L8.5 8.5l.94-2.06 2.06-.94-2.06-.94L8.5 2.5l-.94 2.06-2.06.94zm10 10l.94 2.06.94-2.06 2.06-.94-2.06-.94-.94-2.06-.94 2.06-2.06.94z\"/><path d=\"M17.41 7.96l-1.37-1.37c-.4-.4-.92-.59-1.43-.59-.52 0-1.04.2-1.43.59L10.3 9.45l-7.72 7.72c-.78.78-.78 2.05 0 2.83L4 21.41c.39.39.9.59 1.41.59.51 0 1.02-.2 1.41-.59l7.78-7.78 2.81-2.81c.8-.78.8-2.07 0-2.86zM5.41 20L4 18.59l7.72-7.72 1.47 1.35L5.41 20z\"/>\n",
              "  </svg>\n",
              "      </button>\n",
              "      \n",
              "  <style>\n",
              "    .colab-df-container {\n",
              "      display:flex;\n",
              "      flex-wrap:wrap;\n",
              "      gap: 12px;\n",
              "    }\n",
              "\n",
              "    .colab-df-convert {\n",
              "      background-color: #E8F0FE;\n",
              "      border: none;\n",
              "      border-radius: 50%;\n",
              "      cursor: pointer;\n",
              "      display: none;\n",
              "      fill: #1967D2;\n",
              "      height: 32px;\n",
              "      padding: 0 0 0 0;\n",
              "      width: 32px;\n",
              "    }\n",
              "\n",
              "    .colab-df-convert:hover {\n",
              "      background-color: #E2EBFA;\n",
              "      box-shadow: 0px 1px 2px rgba(60, 64, 67, 0.3), 0px 1px 3px 1px rgba(60, 64, 67, 0.15);\n",
              "      fill: #174EA6;\n",
              "    }\n",
              "\n",
              "    [theme=dark] .colab-df-convert {\n",
              "      background-color: #3B4455;\n",
              "      fill: #D2E3FC;\n",
              "    }\n",
              "\n",
              "    [theme=dark] .colab-df-convert:hover {\n",
              "      background-color: #434B5C;\n",
              "      box-shadow: 0px 1px 3px 1px rgba(0, 0, 0, 0.15);\n",
              "      filter: drop-shadow(0px 1px 2px rgba(0, 0, 0, 0.3));\n",
              "      fill: #FFFFFF;\n",
              "    }\n",
              "  </style>\n",
              "\n",
              "      <script>\n",
              "        const buttonEl =\n",
              "          document.querySelector('#df-957be494-72ad-4d77-b296-85edb3c61f5a button.colab-df-convert');\n",
              "        buttonEl.style.display =\n",
              "          google.colab.kernel.accessAllowed ? 'block' : 'none';\n",
              "\n",
              "        async function convertToInteractive(key) {\n",
              "          const element = document.querySelector('#df-957be494-72ad-4d77-b296-85edb3c61f5a');\n",
              "          const dataTable =\n",
              "            await google.colab.kernel.invokeFunction('convertToInteractive',\n",
              "                                                     [key], {});\n",
              "          if (!dataTable) return;\n",
              "\n",
              "          const docLinkHtml = 'Like what you see? Visit the ' +\n",
              "            '<a target=\"_blank\" href=https://colab.research.google.com/notebooks/data_table.ipynb>data table notebook</a>'\n",
              "            + ' to learn more about interactive tables.';\n",
              "          element.innerHTML = '';\n",
              "          dataTable['output_type'] = 'display_data';\n",
              "          await google.colab.output.renderOutput(dataTable, element);\n",
              "          const docLink = document.createElement('div');\n",
              "          docLink.innerHTML = docLinkHtml;\n",
              "          element.appendChild(docLink);\n",
              "        }\n",
              "      </script>\n",
              "    </div>\n",
              "  </div>\n",
              "  "
            ],
            "text/plain": [
              "       satisfaction_level  last_evaluation  number_project  \\\n",
              "count        14999.000000     14999.000000    14999.000000   \n",
              "mean             0.612834         0.716102        3.803054   \n",
              "std              0.248631         0.171169        1.232592   \n",
              "min              0.090000         0.360000        2.000000   \n",
              "25%              0.440000         0.560000        3.000000   \n",
              "50%              0.640000         0.720000        4.000000   \n",
              "75%              0.820000         0.870000        5.000000   \n",
              "max              1.000000         1.000000        7.000000   \n",
              "\n",
              "       average_montly_hours  time_spend_company  Work_accident          left  \\\n",
              "count          14999.000000        14999.000000   14999.000000  14999.000000   \n",
              "mean             201.050337            3.498233       0.144610      0.238083   \n",
              "std               49.943099            1.460136       0.351719      0.425924   \n",
              "min               96.000000            2.000000       0.000000      0.000000   \n",
              "25%              156.000000            3.000000       0.000000      0.000000   \n",
              "50%              200.000000            3.000000       0.000000      0.000000   \n",
              "75%              245.000000            4.000000       0.000000      0.000000   \n",
              "max              310.000000           10.000000       1.000000      1.000000   \n",
              "\n",
              "       promotion_last_5years  \n",
              "count           14999.000000  \n",
              "mean                0.021268  \n",
              "std                 0.144281  \n",
              "min                 0.000000  \n",
              "25%                 0.000000  \n",
              "50%                 0.000000  \n",
              "75%                 0.000000  \n",
              "max                 1.000000  "
            ]
          },
          "metadata": {},
          "execution_count": 50
        }
      ]
    },
    {
      "cell_type": "markdown",
      "source": [
        "#Задание 3 Рассчитать и визуализировать корреляционную матрицу для количественных переменных.Определите две самые скоррелированные и две наименеескоррелированные переменные. (10)\n",
        "\n",
        "\n"
      ],
      "metadata": {
        "id": "6mtyBCg1uDTs"
      }
    },
    {
      "cell_type": "code",
      "source": [
        "print(\"3а) Рассчитать и визуализировать корреляционную матрицу для количественных переменных.(10)\\n\") \n",
        "\n",
        "### Отбираем количественные колонки\n",
        "df_matrix = df[['satisfaction_level','last_evaluation', 'number_project', 'average_montly_hours', 'time_spend_company', 'Work_accident', 'left', 'promotion_last_5years']]\n",
        "\n",
        "### Установка опции для показа всех значений в строку без переноса\n",
        "pd.set_option('expand_frame_repr', False)\n",
        "\n",
        "### Печать корреляционной матрицы в процентах\n",
        "corrM = df_matrix.corr().applymap(\"{:.0%}\".format)\n",
        "print(\"Корреляционная матрица\\n\", corrM, \"\\n\")\n",
        "\n",
        "### Выбор палитры для хитмэпа и установка визуализации корреляционной матрицы\n",
        "sns.color_palette(\"YlOrBr\", as_cmap=True)\n",
        "HeatMapChart = sns.heatmap(df_matrix.corr(),annot=True,cmap=\"YlOrBr\",linewidths=0.1)\n",
        "fig=plt.gcf()\n",
        "fig.set_size_inches(17,17)\n",
        "\n",
        "#HeatMapChart.set_title('Визуализация - корреляционная матрица')\n",
        "plt.show()\n",
        "\n",
        "print(\"3б) Определите: две самые скоррелированные и две наименеескоррелированные переменные.\\n\") \n",
        "print(\"\\nНаибольшая корреляция наблюдается между:\\n - average_monthly_hours и number_project - 42%\\n - number project и last evaluation - 35%\\n\")\n",
        "print(\"\\nНаименьшая корреляция наблюдается между:\\n - time_spend_company и Work_accident - 0,21%\\n - average_monthly_hours и promotion_last_5years - 0,35%\\n\")"
      ],
      "metadata": {
        "colab": {
          "base_uri": "https://localhost:8080/",
          "height": 1000
        },
        "id": "d2H8JpZQ8SVE",
        "outputId": "4e275311-0294-45ad-f853-5b848f83def4"
      },
      "execution_count": 129,
      "outputs": [
        {
          "output_type": "stream",
          "name": "stdout",
          "text": [
            "3а) Рассчитать и визуализировать корреляционную матрицу для количественных переменных.(10)\n",
            "\n",
            "Корреляционная матрица\n",
            "                       satisfaction_level last_evaluation number_project average_montly_hours time_spend_company Work_accident  left promotion_last_5years\n",
            "satisfaction_level                  100%             11%           -14%                  -2%               -10%            6%  -39%                    3%\n",
            "last_evaluation                      11%            100%            35%                  34%                13%           -1%    1%                   -1%\n",
            "number_project                      -14%             35%           100%                  42%                20%           -0%    2%                   -1%\n",
            "average_montly_hours                 -2%             34%            42%                 100%                13%           -1%    7%                   -0%\n",
            "time_spend_company                  -10%             13%            20%                  13%               100%            0%   14%                    7%\n",
            "Work_accident                         6%             -1%            -0%                  -1%                 0%          100%  -15%                    4%\n",
            "left                                -39%              1%             2%                   7%                14%          -15%  100%                   -6%\n",
            "promotion_last_5years                 3%             -1%            -1%                  -0%                 7%            4%   -6%                  100% \n",
            "\n"
          ]
        },
        {
          "output_type": "display_data",
          "data": {
            "image/png": "[encoded data removed]",
            "text/plain": [
              "<Figure size 1224x1224 with 2 Axes>"
            ]
          },
          "metadata": {
            "needs_background": "light"
          }
        },
        {
          "output_type": "stream",
          "name": "stdout",
          "text": [
            "3б) Определите: две самые скоррелированные и две наименеескоррелированные переменные.\n",
            "\n",
            "\n",
            "Наибольшая корреляция наблюдается между:\n",
            " - average_monthly_hours и number_project - 42%\n",
            " - number project и last evaluation - 35%\n",
            "\n",
            "\n",
            "Наименьшая корреляция наблюдается между:\n",
            " - time_spend_company и Work_accident - 0,21%\n",
            " - average_monthly_hours и promotion_last_5years - 0,35%\n",
            "\n"
          ]
        }
      ]
    },
    {
      "cell_type": "markdown",
      "source": [
        "#Задание 4 Рассчитайте сколько сотрудников работает в каждом департаменте (5)"
      ],
      "metadata": {
        "id": "3rFtaJRathSh"
      }
    },
    {
      "cell_type": "code",
      "source": [
        "### Расчет количества сотрудников в каждом департаменте\n",
        "df['department'].value_counts(ascending=True)"
      ],
      "metadata": {
        "colab": {
          "base_uri": "https://localhost:8080/"
        },
        "id": "nOQ-oZV9bSzi",
        "outputId": "d5521c9d-c829-406e-9a11-da61317ced71"
      },
      "execution_count": 128,
      "outputs": [
        {
          "output_type": "execute_result",
          "data": {
            "text/plain": [
              "management      630\n",
              "hr              739\n",
              "accounting      767\n",
              "RandD           787\n",
              "marketing       858\n",
              "product_mng     902\n",
              "IT             1227\n",
              "support        2229\n",
              "technical      2720\n",
              "sales          4140\n",
              "Name: department, dtype: int64"
            ]
          },
          "metadata": {},
          "execution_count": 128
        }
      ]
    },
    {
      "cell_type": "markdown",
      "source": [
        "#Задание 5,6 Показать распределение сотрудников по зарплатам.(5+5)"
      ],
      "metadata": {
        "id": "kPgQfr1rsMQm"
      }
    },
    {
      "cell_type": "code",
      "source": [
        "### Установка опции для показа всех значений в строку без переноса\n",
        "pd.set_option('expand_frame_repr', False)\n",
        "#pd.options.display.max_columns = 20\n",
        "\n",
        "### Формирование сводной таблицы\n",
        "print(\"Сводная таблица распределений по зарплатам \\n\\n\",table)\n",
        "table = print(pd.pivot_table(df, values='left', index=['salary'],\n",
        "                    columns=['department'], aggfunc='count', fill_value=0, margins=True))\n",
        "### Формирование фрейма для графика в разрезе департаментов\n",
        "df2 = df[['department','salary']]\n",
        "\n",
        "### Формирование графика по зарплатам\n",
        "#df2.salary.count().plot.bar(figsize=(23,8),legend=True, title='График распределений по зарплатам')\n",
        "#print(\"gfdf\", df2.salary.count())\n",
        "df2.groupby(['salary']).salary.count().plot.bar(figsize=(10,5),legend=True, title='График распределений по зарплатам')\n",
        "\n",
        "### Формирование графика по зарплатам\n",
        "df2.groupby(['department','salary']).salary.count().unstack().plot.bar(figsize=(15,8),legend=True, title='График распределений по зарплатам по департаментам')\n"
      ],
      "metadata": {
        "colab": {
          "base_uri": "https://localhost:8080/",
          "height": 1000
        },
        "id": "FLvYdO82nkSL",
        "outputId": "eef10b0e-8243-471f-bd8e-056e288755e5"
      },
      "execution_count": null,
      "outputs": [
        {
          "output_type": "stream",
          "name": "stdout",
          "text": [
            "Сводная таблица распределений по зарплатам \n",
            "\n",
            " None\n",
            "department    IT  RandD  accounting   hr  management  marketing  product_mng  sales  support  technical    All\n",
            "salary                                                                                                        \n",
            "high          83     51          74   45         225         80           68    269      141        201   1237\n",
            "low          609    364         358  335         180        402          451   2099     1146       1372   7316\n",
            "medium       535    372         335  359         225        376          383   1772      942       1147   6446\n",
            "All         1227    787         767  739         630        858          902   4140     2229       2720  14999\n"
          ]
        },
        {
          "output_type": "execute_result",
          "data": {
            "text/plain": [
              "<matplotlib.axes._subplots.AxesSubplot at 0x7f98cc602e50>"
            ]
          },
          "metadata": {},
          "execution_count": 86
        },
        {
          "output_type": "display_data",
          "data": {
            "image/png": "[encoded data removed]",
            "text/plain": [
              "<Figure size 720x360 with 1 Axes>"
            ]
          },
          "metadata": {
            "needs_background": "light"
          }
        },
        {
          "output_type": "display_data",
          "data": {
            "image/png": "[encoded data removed]",
            "text/plain": [
              "<Figure size 1080x576 with 1 Axes>"
            ]
          },
          "metadata": {
            "needs_background": "light"
          }
        }
      ]
    },
    {
      "cell_type": "markdown",
      "source": [
        "#Задание 7 Проверить гипотезу, что сотрудники с высоким окладом проводят на работе больше времени, чем сотрудники с низким окладом (10)"
      ],
      "metadata": {
        "id": "Fa_ggOd-qYWB"
      }
    },
    {
      "cell_type": "code",
      "source": [
        "### Формирование сводной таблицы\n",
        "table = pd.pivot_table(df, values='average_montly_hours', index=['salary'], aggfunc='sum', fill_value=0, margins=False).sort_values(by='average_montly_hours', ascending=True)\n",
        "print(\"Гипотеза не верна - сотрудники с высоким окладом проводят на работе меньше времени\\n\\n\",table)"
      ],
      "metadata": {
        "colab": {
          "base_uri": "https://localhost:8080/"
        },
        "id": "9163WF0Bt8HH",
        "outputId": "685d5c9c-177a-46ae-b0c6-f9c981f9b548"
      },
      "execution_count": 125,
      "outputs": [
        {
          "output_type": "stream",
          "name": "stdout",
          "text": [
            "Гипотеза не верна - сотрудники с высоким окладом проводят на работе меньше времени\n",
            "\n",
            "         average_montly_hours\n",
            "salary                      \n",
            "high                  247236\n",
            "medium               1297827\n",
            "low                  1470491\n"
          ]
        }
      ]
    },
    {
      "cell_type": "markdown",
      "source": [
        "#Задание 8 Показатели уволившихся и неуволившихся сотрудников (10)"
      ],
      "metadata": {
        "id": "D_w6tuIOpKuh"
      }
    },
    {
      "cell_type": "code",
      "source": [
        "## 8) Рассчитать следующие показатели среди уволившихся и неуволившихся сотрудников (по отдельности):\n",
        "# а) Доля сотрудников с повышением за последние 5 лет \n",
        "PromotionNumber = df['promotion_last_5years'].sum()\n",
        "AllNumber = df['promotion_last_5years'].count()\n",
        "PromotionInd = PromotionNumber/AllNumber\n",
        "PromotionInd = PromotionInd.round(3)\n",
        "print(\"8а) Доля сотрудников с повышением за 5 лет - \", PromotionInd)\n",
        "\n",
        "# б) Средняя степень удовлетворенности\n",
        "print(\"8б) Средняя степень удовлетворенности - \", df['satisfaction_level'].mean())\n",
        "\n",
        "# в) Среднее количество проектов\n",
        "print(\"8в) Среднее количество проектов - \", round(df['number_project'].astype('float').mean(), 0))\n",
        "#ProjectMeanNumber.round(0)\n",
        "#df.describe()\n"
      ],
      "metadata": {
        "colab": {
          "base_uri": "https://localhost:8080/"
        },
        "id": "-stv2RxWyMT-",
        "outputId": "29441ab2-518a-4443-925b-02ed5436e8b4"
      },
      "execution_count": null,
      "outputs": [
        {
          "output_type": "stream",
          "name": "stdout",
          "text": [
            "8а) Доля сотрудников с повышением за 5 лет -  0.021\n",
            "8б) Средняя степень удовлетворенности -  0.6128335222348166\n",
            "8в) Среднее количество проектов -  4.0\n"
          ]
        }
      ]
    },
    {
      "cell_type": "markdown",
      "source": [
        "#Задание 9 Разделить данные на тестовую и обучающую выборки. Построить модель LDA, предсказывающую уволился ли сотрудник на основе имеющихся факторов (кроме department и salary). Оценить качество модели на тестовой выборки (20)"
      ],
      "metadata": {
        "id": "S-w4mBdf60L5"
      }
    },
    {
      "cell_type": "code",
      "source": [
        "# а) Разделить данные на тестовую и обучающую выборки\n",
        "\n",
        "## Отбираем количественные колонки для x (факторы влияющие) и y (фактор фактический)\n",
        "df_lda_x = df[['satisfaction_level','last_evaluation', 'number_project', 'average_montly_hours', 'time_spend_company', 'Work_accident', 'promotion_last_5years']]\n",
        "df_lda_y = df['left']\n",
        "\n",
        "## разделяем выборку на тренировочную и тестовую\n",
        "X_train, X_test, y_train, y_test = train_test_split(df_lda_x, df_lda_y, test_size=0.3)\n",
        "\n",
        "## обучаем данные\n",
        "lda = LinearDiscriminantAnalysis()\n",
        "lda.fit(X_train, y_train)\n",
        "\n",
        "## делаем прогноз на тестовой выборке\n",
        "X_test_predict = lda.predict(X_test)\n",
        "\n",
        "## Сравниваем прогноз и факт\n",
        "compar = pd.DataFrame([X_test_predict, y_test]).T\n",
        "compar.columns = ['Forecast', 'Fact']\n",
        "print(compar)\n",
        "\n",
        "## Проверка точности\n",
        "accuracy_score(y_test, X_test_predict)\n"
      ],
      "metadata": {
        "colab": {
          "base_uri": "https://localhost:8080/"
        },
        "id": "J2eR2eZl68mB",
        "outputId": "33b75089-867b-4733-fce5-3e173380cd7b"
      },
      "execution_count": 180,
      "outputs": [
        {
          "output_type": "stream",
          "name": "stdout",
          "text": [
            "      Forecast  Fact\n",
            "0            0     0\n",
            "1            0     0\n",
            "2            0     0\n",
            "3            0     0\n",
            "4            0     0\n",
            "...        ...   ...\n",
            "4495         0     1\n",
            "4496         0     0\n",
            "4497         0     0\n",
            "4498         0     0\n",
            "4499         0     0\n",
            "\n",
            "[4500 rows x 2 columns]\n"
          ]
        },
        {
          "output_type": "execute_result",
          "data": {
            "text/plain": [
              "0.7604444444444445"
            ]
          },
          "metadata": {},
          "execution_count": 180
        }
      ]
    },
    {
      "cell_type": "markdown",
      "source": [
        "#Задание 10 Загрузить jupyter notebook с решение на github и прислать ссылку (5)"
      ],
      "metadata": {
        "id": "6uv8SabNvnog"
      }
    },
    {
      "cell_type": "code",
      "source": [
        "print(\"Файл загружен на github - ссылка выслана\")"
      ],
      "metadata": {
        "id": "_Es9eAz8wAyL"
      },
      "execution_count": null,
      "outputs": []
    }
  ]
}