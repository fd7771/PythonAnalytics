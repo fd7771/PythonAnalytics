{
 "cells": [
  {
   "cell_type": "code",
   "execution_count": 1,
   "id": "752e19aa",
   "metadata": {},
   "outputs": [
    {
     "data": {
      "text/plain": [
       "int"
      ]
     },
     "execution_count": 1,
     "metadata": {},
     "output_type": "execute_result"
    }
   ],
   "source": [
    "my_interger=10\n",
    "type(my_interger)"
   ]
  },
  {
   "cell_type": "code",
   "execution_count": 2,
   "id": "a74ab091",
   "metadata": {},
   "outputs": [
    {
     "data": {
      "text/plain": [
       "float"
      ]
     },
     "execution_count": 2,
     "metadata": {},
     "output_type": "execute_result"
    }
   ],
   "source": [
    "my_float=5.5\n",
    "type(my_float)"
   ]
  },
  {
   "cell_type": "code",
   "execution_count": 3,
   "id": "921903cb",
   "metadata": {},
   "outputs": [
    {
     "data": {
      "text/plain": [
       "str"
      ]
     },
     "execution_count": 3,
     "metadata": {},
     "output_type": "execute_result"
    }
   ],
   "source": [
    "my_string='Hello World!'\n",
    "type(my_string)"
   ]
  },
  {
   "cell_type": "code",
   "execution_count": 6,
   "id": "a81d59a6",
   "metadata": {},
   "outputs": [
    {
     "data": {
      "text/plain": [
       "bool"
      ]
     },
     "execution_count": 6,
     "metadata": {},
     "output_type": "execute_result"
    }
   ],
   "source": [
    "my_bool=True\n",
    "type(my_bool)"
   ]
  },
  {
   "cell_type": "code",
   "execution_count": 8,
   "id": "b410dd9f",
   "metadata": {},
   "outputs": [
    {
     "name": "stdout",
     "output_type": "stream",
     "text": [
      "<class 'bool'>\n"
     ]
    }
   ],
   "source": [
    "x=5\n",
    "y=1\n",
    "print(type(x > y))"
   ]
  },
  {
   "cell_type": "code",
   "execution_count": 9,
   "id": "3d4c0796",
   "metadata": {},
   "outputs": [
    {
     "name": "stdout",
     "output_type": "stream",
     "text": [
      "Ваша годовая зарплата составляет  1000  условных единиц\n"
     ]
    }
   ],
   "source": [
    "salary=1000\n",
    "print('Ваша годовая зарплата составляет ', salary, ' условных единиц')"
   ]
  },
  {
   "cell_type": "code",
   "execution_count": 11,
   "id": "ac1ab5d1",
   "metadata": {},
   "outputs": [
    {
     "name": "stdout",
     "output_type": "stream",
     "text": [
      "Ваша годовая зарплата составляет 1000 условных единиц\n"
     ]
    }
   ],
   "source": [
    "salary=1000\n",
    "print('Ваша годовая зарплата составляет '+ str(salary) + ' условных единиц')"
   ]
  },
  {
   "cell_type": "code",
   "execution_count": 12,
   "id": "2cbe35c8",
   "metadata": {},
   "outputs": [
    {
     "data": {
      "text/plain": [
       "1100"
      ]
     },
     "execution_count": 12,
     "metadata": {},
     "output_type": "execute_result"
    }
   ],
   "source": [
    " int('1000')+100"
   ]
  },
  {
   "cell_type": "code",
   "execution_count": 14,
   "id": "4c900baa",
   "metadata": {},
   "outputs": [
    {
     "data": {
      "text/plain": [
       "'IvanovIvanovIvanov'"
      ]
     },
     "execution_count": 14,
     "metadata": {},
     "output_type": "execute_result"
    }
   ],
   "source": [
    "fio='Ivanov'\n",
    "fio*3"
   ]
  },
  {
   "cell_type": "code",
   "execution_count": 22,
   "id": "6a9089ea",
   "metadata": {},
   "outputs": [
    {
     "data": {
      "text/plain": [
       "'ivanov'"
      ]
     },
     "execution_count": 22,
     "metadata": {},
     "output_type": "execute_result"
    }
   ],
   "source": [
    "fio.lower()\n"
   ]
  },
  {
   "cell_type": "code",
   "execution_count": 23,
   "id": "81eceba8",
   "metadata": {},
   "outputs": [
    {
     "data": {
      "text/plain": [
       "'IVANOV'"
      ]
     },
     "execution_count": 23,
     "metadata": {},
     "output_type": "execute_result"
    }
   ],
   "source": [
    "fio.upper()"
   ]
  },
  {
   "cell_type": "code",
   "execution_count": 25,
   "id": "e4289b33",
   "metadata": {},
   "outputs": [
    {
     "data": {
      "text/plain": [
       "'Baranov'"
      ]
     },
     "execution_count": 25,
     "metadata": {},
     "output_type": "execute_result"
    }
   ],
   "source": [
    "fio.replace('Iv','Bar')"
   ]
  },
  {
   "cell_type": "code",
   "execution_count": 26,
   "id": "98c28c34",
   "metadata": {},
   "outputs": [
    {
     "data": {
      "text/plain": [
       "6"
      ]
     },
     "execution_count": 26,
     "metadata": {},
     "output_type": "execute_result"
    }
   ],
   "source": [
    "len(fio)"
   ]
  },
  {
   "cell_type": "code",
   "execution_count": 27,
   "id": "6b42d7de",
   "metadata": {},
   "outputs": [
    {
     "data": {
      "text/plain": [
       "'12'"
      ]
     },
     "execution_count": 27,
     "metadata": {},
     "output_type": "execute_result"
    }
   ],
   "source": [
    "'1'+'2'"
   ]
  },
  {
   "cell_type": "code",
   "execution_count": 29,
   "id": "1d8a51fc",
   "metadata": {},
   "outputs": [
    {
     "data": {
      "text/plain": [
       "'l'"
      ]
     },
     "execution_count": 29,
     "metadata": {},
     "output_type": "execute_result"
    }
   ],
   "source": [
    "# Индексы\n",
    "\n",
    "My_string='Hello world!'\n",
    "\n",
    "My_string[2]\n"
   ]
  },
  {
   "cell_type": "code",
   "execution_count": 30,
   "id": "abd6b56d",
   "metadata": {},
   "outputs": [
    {
     "data": {
      "text/plain": [
       "'r'"
      ]
     },
     "execution_count": 30,
     "metadata": {},
     "output_type": "execute_result"
    }
   ],
   "source": [
    "My_string[-4]"
   ]
  },
  {
   "cell_type": "code",
   "execution_count": 31,
   "id": "f6549b37",
   "metadata": {},
   "outputs": [
    {
     "data": {
      "text/plain": [
       "'Hello'"
      ]
     },
     "execution_count": 31,
     "metadata": {},
     "output_type": "execute_result"
    }
   ],
   "source": [
    "My_string[0:5]"
   ]
  },
  {
   "cell_type": "code",
   "execution_count": 32,
   "id": "4869f4c9",
   "metadata": {},
   "outputs": [
    {
     "data": {
      "text/plain": [
       "'Hlow'"
      ]
     },
     "execution_count": 32,
     "metadata": {},
     "output_type": "execute_result"
    }
   ],
   "source": [
    "My_string[0:8:2]"
   ]
  },
  {
   "cell_type": "code",
   "execution_count": 33,
   "id": "995ec085",
   "metadata": {},
   "outputs": [
    {
     "data": {
      "text/plain": [
       "'world!'"
      ]
     },
     "execution_count": 33,
     "metadata": {},
     "output_type": "execute_result"
    }
   ],
   "source": [
    "My_string[6:]"
   ]
  },
  {
   "cell_type": "code",
   "execution_count": 34,
   "id": "070f8678",
   "metadata": {},
   "outputs": [
    {
     "data": {
      "text/plain": [
       "'Hello'"
      ]
     },
     "execution_count": 34,
     "metadata": {},
     "output_type": "execute_result"
    }
   ],
   "source": [
    "My_string[:5]"
   ]
  },
  {
   "cell_type": "code",
   "execution_count": 36,
   "id": "834a5233",
   "metadata": {},
   "outputs": [
    {
     "data": {
      "text/plain": [
       "'23'"
      ]
     },
     "execution_count": 36,
     "metadata": {},
     "output_type": "execute_result"
    }
   ],
   "source": [
    "date='2019-08-27Т23:59:00.932'\n",
    "date[11:13]"
   ]
  },
  {
   "cell_type": "code",
   "execution_count": 37,
   "id": "984654cc",
   "metadata": {},
   "outputs": [
    {
     "name": "stdout",
     "output_type": "stream",
     "text": [
      "Find!\n"
     ]
    }
   ],
   "source": [
    "My_string='Hello world!'\n",
    "Target_string='world'\n",
    "if(Target_string in My_string):\n",
    "    print('Find!')"
   ]
  },
  {
   "cell_type": "code",
   "execution_count": 38,
   "id": "1666b542",
   "metadata": {},
   "outputs": [
    {
     "name": "stdout",
     "output_type": "stream",
     "text": [
      "Hello, Oleg, i know python a bit\n",
      "<class 'str'>\n"
     ]
    }
   ],
   "source": [
    "name='oleg'\n",
    "lang='python'\n",
    "t=f\"Hello, {name.capitalize()}, i know {lang} a bit\"\n",
    "\n",
    "print(t)\n",
    "print(type(t))\n"
   ]
  },
  {
   "cell_type": "code",
   "execution_count": 2,
   "id": "4f5cdf75",
   "metadata": {},
   "outputs": [],
   "source": [
    "# СПИСКИ !!!\n",
    "\n",
    "month_list=['jan','feb','mar','apr','may','jun','jul','aug','sep','oct','nov','dec']\n",
    "income_list=[10, 20, 30]\n",
    "income_by_months=[['jan', 10], ['feb', 20], ['mar', 30]]\n"
   ]
  },
  {
   "cell_type": "code",
   "execution_count": 42,
   "id": "6439af24",
   "metadata": {},
   "outputs": [
    {
     "name": "stdout",
     "output_type": "stream",
     "text": [
      "<class 'list'>\n",
      "<class 'list'>\n",
      "<class 'list'>\n"
     ]
    }
   ],
   "source": [
    "print(type(month_list))\n",
    "print(type(income_list))\n",
    "print(type(income_by_months))"
   ]
  },
  {
   "cell_type": "code",
   "execution_count": 51,
   "id": "a1349744",
   "metadata": {},
   "outputs": [
    {
     "name": "stdout",
     "output_type": "stream",
     "text": [
      "jan\n",
      "dec\n",
      "['feb', 20]\n"
     ]
    }
   ],
   "source": [
    "# Индексация элементов в списке\n",
    "\n",
    "print(month_list[0])\n",
    "print(month_list[-1])\n",
    "print(income_by_months[-2])\n"
   ]
  },
  {
   "cell_type": "code",
   "execution_count": null,
   "id": "f9097430",
   "metadata": {},
   "outputs": [],
   "source": []
  },
  {
   "cell_type": "code",
   "execution_count": 53,
   "id": "5025c056",
   "metadata": {},
   "outputs": [
    {
     "name": "stdout",
     "output_type": "stream",
     "text": [
      "jan\n",
      "dec\n",
      "20\n"
     ]
    }
   ],
   "source": [
    "# Индексация элементов в списке\n",
    "\n",
    "print(month_list[0])\n",
    "print(month_list[-1])\n",
    "print(income_by_months[-2][1])\n"
   ]
  },
  {
   "cell_type": "code",
   "execution_count": 68,
   "id": "64c40fe0",
   "metadata": {},
   "outputs": [
    {
     "name": "stdout",
     "output_type": "stream",
     "text": [
      "[['jan', 10]]\n",
      "[['jan', 10], ['feb', 20]]\n",
      "[['jan', 10], ['feb', 20], ['mar', 30]]\n",
      "[]\n",
      "[['feb', 20]]\n",
      "[['feb', 20], ['mar', 30]]\n",
      "[['mar', 30]]\n",
      "[['jan', 10]]\n",
      "[['jan', 10], ['feb', 20]]\n",
      "[['mar', 30]]\n"
     ]
    }
   ],
   "source": [
    "# Срезы\n",
    "\n",
    "print(income_by_months[0:1])\n",
    "print(income_by_months[0:2])\n",
    "print(income_by_months[0:3])\n",
    "print(income_by_months[1:1])\n",
    "print(income_by_months[1:2])\n",
    "print(income_by_months[1:3])\n",
    "print(income_by_months[2:3])\n",
    "print(income_by_months[-3:-2])\n",
    "print(income_by_months[:2])\n",
    "print(income_by_months[2:])"
   ]
  },
  {
   "cell_type": "code",
   "execution_count": 72,
   "id": "16f424ed",
   "metadata": {},
   "outputs": [
    {
     "name": "stdout",
     "output_type": "stream",
     "text": [
      "[['jan', 10], ['feb', 20], ['mar', 30]]\n"
     ]
    }
   ],
   "source": [
    "# Изменение значений списков\n",
    "income_by_months[0:2]=[['jan',10],['feb',20]]\n",
    "print(income_by_months)"
   ]
  },
  {
   "cell_type": "code",
   "execution_count": 74,
   "id": "52a5144e",
   "metadata": {},
   "outputs": [
    {
     "name": "stdout",
     "output_type": "stream",
     "text": [
      "1 2\n"
     ]
    }
   ],
   "source": [
    "# Способ назначения переменных\n",
    "a,b = [1,2]\n",
    "print(a, b)"
   ]
  },
  {
   "cell_type": "code",
   "execution_count": null,
   "id": "3841061b",
   "metadata": {},
   "outputs": [],
   "source": [
    "# ОПЕРАЦИИ СО СПИСКАМИ"
   ]
  },
  {
   "cell_type": "code",
   "execution_count": 75,
   "id": "717c9ad6",
   "metadata": {},
   "outputs": [],
   "source": [
    "# Удаляем элемент по индексу\n",
    "del(income_by_months[-1])"
   ]
  },
  {
   "cell_type": "code",
   "execution_count": 4,
   "id": "d64ce7b7",
   "metadata": {},
   "outputs": [
    {
     "data": {
      "text/plain": [
       "['jan', 'feb', 'mar', 'apr', 'may', 'jun', 'jul', 'aug', 'oct', 'nov', 'dec']"
      ]
     },
     "execution_count": 4,
     "metadata": {},
     "output_type": "execute_result"
    }
   ],
   "source": [
    "# Удаляем элемент по значению\n",
    "month_list.remove('sep')\n",
    "month_list\n"
   ]
  },
  {
   "cell_type": "code",
   "execution_count": 7,
   "id": "a5007e4d",
   "metadata": {},
   "outputs": [
    {
     "name": "stdout",
     "output_type": "stream",
     "text": [
      "['jan', 'feb', 'mar', 'apr', 'may', 'jun', 'jul', 'aug', 'oct', 'nov', 'dec']\n",
      "['jan', 'feb', 'mar', 'apr', 'may', 'jun', 'jul', 'aug', 'oct', 'nov', 'dec', 'sep']\n"
     ]
    }
   ],
   "source": [
    "print(month_list)\n",
    "\n",
    "month_list.append('sep')\n",
    "print(month_list)"
   ]
  },
  {
   "cell_type": "code",
   "execution_count": 80,
   "id": "294168db",
   "metadata": {},
   "outputs": [
    {
     "name": "stdout",
     "output_type": "stream",
     "text": [
      "[['jan', 10], ['feb', 20], ['dec2', 17000], ['dec2', 17000]]\n"
     ]
    }
   ],
   "source": [
    "# Добавляем элемент в конце списка\n",
    "\n",
    "income_by_months.append(['dec2',17000])\n",
    "\n",
    "print(income_by_months)"
   ]
  },
  {
   "cell_type": "code",
   "execution_count": 11,
   "id": "2bab4f8e",
   "metadata": {},
   "outputs": [
    {
     "name": "stdout",
     "output_type": "stream",
     "text": [
      "[10, 20, 111, 111, 30]\n"
     ]
    }
   ],
   "source": [
    "# Добавляем элемент по нужному индексу\n",
    "\n",
    "income_list.insert(2,111)\n",
    "\n",
    "print(income_list)"
   ]
  },
  {
   "cell_type": "code",
   "execution_count": 88,
   "id": "ccde4390",
   "metadata": {},
   "outputs": [
    {
     "data": {
      "text/plain": [
       "1"
      ]
     },
     "execution_count": 88,
     "metadata": {},
     "output_type": "execute_result"
    }
   ],
   "source": [
    "# Считаем количество вхождений элементов в списке\n",
    "income_list.count(111)"
   ]
  },
  {
   "cell_type": "code",
   "execution_count": 16,
   "id": "c1087538",
   "metadata": {},
   "outputs": [
    {
     "data": {
      "text/plain": [
       "2"
      ]
     },
     "execution_count": 16,
     "metadata": {},
     "output_type": "execute_result"
    }
   ],
   "source": [
    "# Узнаем индекс элемента в списке(показывает элемент первого вхождения)\n",
    "income_list.index(111,0)\n"
   ]
  },
  {
   "cell_type": "code",
   "execution_count": 18,
   "id": "29f04b98",
   "metadata": {},
   "outputs": [
    {
     "data": {
      "text/plain": [
       "3"
      ]
     },
     "execution_count": 18,
     "metadata": {},
     "output_type": "execute_result"
    }
   ],
   "source": [
    "# Узнаем индекс элемента в списке(показывает элемент второго вхождения)\n",
    "income_list.index(111,3)\n"
   ]
  },
  {
   "cell_type": "code",
   "execution_count": null,
   "id": "9d4c2d40",
   "metadata": {},
   "outputs": [],
   "source": [
    "# РАСПАКОВКА СПИСКОВ"
   ]
  },
  {
   "cell_type": "code",
   "execution_count": 89,
   "id": "edc7e33f",
   "metadata": {},
   "outputs": [],
   "source": [
    "# Простейший - не самый эффективный способ\n",
    "first, second, thirt=[10,20,30]"
   ]
  },
  {
   "cell_type": "code",
   "execution_count": 109,
   "id": "40a9fcec",
   "metadata": {},
   "outputs": [
    {
     "data": {
      "text/plain": [
       "'первый'"
      ]
     },
     "execution_count": 109,
     "metadata": {},
     "output_type": "execute_result"
    }
   ],
   "source": [
    "# Когда число элементов не известно\n",
    "first, *_= ['первый', 'второй','третий']\n",
    "first"
   ]
  },
  {
   "cell_type": "code",
   "execution_count": 108,
   "id": "b8adaa45",
   "metadata": {},
   "outputs": [
    {
     "data": {
      "text/plain": [
       "['второй', 'третий']"
      ]
     },
     "execution_count": 108,
     "metadata": {},
     "output_type": "execute_result"
    }
   ],
   "source": [
    "# Отображение переменной из под звездочки\n",
    "_"
   ]
  },
  {
   "cell_type": "code",
   "execution_count": 104,
   "id": "24a325a9",
   "metadata": {},
   "outputs": [],
   "source": [
    "first, *other, last=['первый', 'второй','третий','четвертый']\n"
   ]
  },
  {
   "cell_type": "code",
   "execution_count": 105,
   "id": "481c2d08",
   "metadata": {},
   "outputs": [
    {
     "data": {
      "text/plain": [
       "('первый', 'четвертый')"
      ]
     },
     "execution_count": 105,
     "metadata": {},
     "output_type": "execute_result"
    }
   ],
   "source": [
    "# Отображение первой и последней переменной из предыдущего скрипта\n",
    "first, last"
   ]
  },
  {
   "cell_type": "code",
   "execution_count": 111,
   "id": "0c30301f",
   "metadata": {},
   "outputs": [
    {
     "data": {
      "text/plain": [
       "['второй', 'третий']"
      ]
     },
     "execution_count": 111,
     "metadata": {},
     "output_type": "execute_result"
    }
   ],
   "source": [
    "# Отображение переменных в середине между первой и последней переменной\n",
    "other"
   ]
  },
  {
   "cell_type": "code",
   "execution_count": 112,
   "id": "a7a04dab",
   "metadata": {},
   "outputs": [
    {
     "data": {
      "text/plain": [
       "[['jan', 10], ['feb', 20], ['dec2', 17000], ['dec2', 17000]]"
      ]
     },
     "execution_count": 112,
     "metadata": {},
     "output_type": "execute_result"
    }
   ],
   "source": [
    "income_by_months"
   ]
  },
  {
   "cell_type": "code",
   "execution_count": 19,
   "id": "e0345dfd",
   "metadata": {},
   "outputs": [
    {
     "data": {
      "text/plain": [
       "['sep',\n",
       " 'dec',\n",
       " 'nov',\n",
       " 'oct',\n",
       " 'aug',\n",
       " 'jul',\n",
       " 'jun',\n",
       " 'may',\n",
       " 'apr',\n",
       " 'mar',\n",
       " 'feb',\n",
       " 'jan']"
      ]
     },
     "execution_count": 19,
     "metadata": {},
     "output_type": "execute_result"
    }
   ],
   "source": [
    "# Разворачиваем список\n",
    "month_list.reverse()\n",
    "month_list"
   ]
  },
  {
   "cell_type": "code",
   "execution_count": 23,
   "id": "1e54f120",
   "metadata": {},
   "outputs": [
    {
     "data": {
      "text/plain": [
       "12"
      ]
     },
     "execution_count": 23,
     "metadata": {},
     "output_type": "execute_result"
    }
   ],
   "source": [
    "# Длина списка\n",
    "len(month_list)\n"
   ]
  },
  {
   "cell_type": "code",
   "execution_count": 24,
   "id": "135caa35",
   "metadata": {},
   "outputs": [
    {
     "data": {
      "text/plain": [
       "282"
      ]
     },
     "execution_count": 24,
     "metadata": {},
     "output_type": "execute_result"
    }
   ],
   "source": [
    "# Сумма списка\n",
    "sum(income_list)"
   ]
  },
  {
   "cell_type": "code",
   "execution_count": 25,
   "id": "58179580",
   "metadata": {},
   "outputs": [
    {
     "data": {
      "text/plain": [
       "111"
      ]
     },
     "execution_count": 25,
     "metadata": {},
     "output_type": "execute_result"
    }
   ],
   "source": [
    "# Максимальное значение\n",
    "max(income_list)"
   ]
  },
  {
   "cell_type": "code",
   "execution_count": 26,
   "id": "c88d02aa",
   "metadata": {},
   "outputs": [
    {
     "data": {
      "text/plain": [
       "10"
      ]
     },
     "execution_count": 26,
     "metadata": {},
     "output_type": "execute_result"
    }
   ],
   "source": [
    "# Минимальное значение\n",
    "min(income_list)"
   ]
  },
  {
   "cell_type": "code",
   "execution_count": 27,
   "id": "3bea5196",
   "metadata": {},
   "outputs": [
    {
     "data": {
      "text/plain": [
       "[10, 20, 30, 111, 111]"
      ]
     },
     "execution_count": 27,
     "metadata": {},
     "output_type": "execute_result"
    }
   ],
   "source": [
    "# Сортировка по возрастанию\n",
    "sorted(income_list)"
   ]
  },
  {
   "cell_type": "code",
   "execution_count": 28,
   "id": "014e8bad",
   "metadata": {},
   "outputs": [
    {
     "data": {
      "text/plain": [
       "[111, 111, 30, 20, 10]"
      ]
     },
     "execution_count": 28,
     "metadata": {},
     "output_type": "execute_result"
    }
   ],
   "source": [
    "# Сортировка по возрастанию\n",
    "sorted(income_list, reverse=True)"
   ]
  },
  {
   "cell_type": "code",
   "execution_count": null,
   "id": "aa17de5f",
   "metadata": {},
   "outputs": [],
   "source": [
    "# ПРИРАВНИВАНИЕ СПИСКА К СПИСКУ"
   ]
  },
  {
   "cell_type": "code",
   "execution_count": 29,
   "id": "3413ccb0",
   "metadata": {},
   "outputs": [],
   "source": [
    "a=1"
   ]
  },
  {
   "cell_type": "code",
   "execution_count": 30,
   "id": "690ba38a",
   "metadata": {},
   "outputs": [],
   "source": [
    "# При копирование списка необходимо именно использовать команду ниже!!!\n",
    "import copy"
   ]
  },
  {
   "cell_type": "code",
   "execution_count": 31,
   "id": "b004a702",
   "metadata": {},
   "outputs": [],
   "source": [
    "# При копировании списка необходимо именно использовать команду ниже (после команды из предыдущего скрипта)\n",
    "a=[1,2,3]\n",
    "b=copy.copy(a)"
   ]
  },
  {
   "cell_type": "code",
   "execution_count": 32,
   "id": "4c5ef98c",
   "metadata": {},
   "outputs": [
    {
     "data": {
      "text/plain": [
       "(4474424192, 4474780992)"
      ]
     },
     "execution_count": 32,
     "metadata": {},
     "output_type": "execute_result"
    }
   ],
   "source": [
    "id(a),id(b)"
   ]
  },
  {
   "cell_type": "code",
   "execution_count": null,
   "id": "b2de4b96",
   "metadata": {},
   "outputs": [],
   "source": [
    "# СПИСКИ И СТРОКИ"
   ]
  },
  {
   "cell_type": "code",
   "execution_count": 33,
   "id": "72c024fb",
   "metadata": {},
   "outputs": [],
   "source": [
    "queries_string=\"дает корова молоко, я чемпион, смотреть сериалы онлайн, новости спорта\""
   ]
  },
  {
   "cell_type": "code",
   "execution_count": 47,
   "id": "1ae824a3",
   "metadata": {},
   "outputs": [
    {
     "data": {
      "text/plain": [
       "['дает корова молоко',\n",
       " ' я чемпион',\n",
       " ' смотреть сериалы онлайн',\n",
       " ' новости спорта']"
      ]
     },
     "execution_count": 47,
     "metadata": {},
     "output_type": "execute_result"
    }
   ],
   "source": [
    "# Преобразование из строки в список (например из csv факла)\n",
    "queries_list=queries_string.split(',')\n",
    "queries_list"
   ]
  },
  {
   "cell_type": "code",
   "execution_count": 62,
   "id": "4db95eb9",
   "metadata": {},
   "outputs": [
    {
     "data": {
      "text/plain": [
       "'дает корова молоко, я чемпион, смотреть сериалы онлайн, новости спорта'"
      ]
     },
     "execution_count": 62,
     "metadata": {},
     "output_type": "execute_result"
    }
   ],
   "source": [
    "# Преобразование из строки в список (например из csv факла)\n",
    "queries_list2=queries_string.split(' ')\n",
    "queries_string"
   ]
  },
  {
   "cell_type": "code",
   "execution_count": 41,
   "id": "4397d56c",
   "metadata": {},
   "outputs": [
    {
     "ename": "AttributeError",
     "evalue": "'list' object has no attribute 'split'",
     "output_type": "error",
     "traceback": [
      "\u001b[0;31m---------------------------------------------------------------------------\u001b[0m",
      "\u001b[0;31mAttributeError\u001b[0m                            Traceback (most recent call last)",
      "\u001b[0;32m<ipython-input-41-e6f91aee5057>\u001b[0m in \u001b[0;36m<module>\u001b[0;34m\u001b[0m\n\u001b[1;32m      1\u001b[0m \u001b[0;31m# Преобразование из строки в список (например из csv факла)\u001b[0m\u001b[0;34m\u001b[0m\u001b[0;34m\u001b[0m\u001b[0;34m\u001b[0m\u001b[0m\n\u001b[0;32m----> 2\u001b[0;31m \u001b[0mqueries_list3\u001b[0m\u001b[0;34m=\u001b[0m\u001b[0mqueries_list2\u001b[0m\u001b[0;34m.\u001b[0m\u001b[0msplit\u001b[0m\u001b[0;34m(\u001b[0m\u001b[0;34m','\u001b[0m\u001b[0;34m)\u001b[0m\u001b[0;34m\u001b[0m\u001b[0;34m\u001b[0m\u001b[0m\n\u001b[0m\u001b[1;32m      3\u001b[0m \u001b[0mqueries_list2\u001b[0m\u001b[0;34m\u001b[0m\u001b[0;34m\u001b[0m\u001b[0m\n",
      "\u001b[0;31mAttributeError\u001b[0m: 'list' object has no attribute 'split'"
     ]
    }
   ],
   "source": [
    "# Преобразование из строки в список (например из csv факла)\n",
    "queries_list3=queries_list2.split(',')\n",
    "queries_list2"
   ]
  },
  {
   "cell_type": "code",
   "execution_count": 65,
   "id": "1e3e98a1",
   "metadata": {},
   "outputs": [
    {
     "data": {
      "text/plain": [
       "['дает', 'корова', 'молоко']"
      ]
     },
     "execution_count": 65,
     "metadata": {},
     "output_type": "execute_result"
    }
   ],
   "source": [
    "queries_list3=queries_list[0].split(' ')\n",
    "queries_list3"
   ]
  },
  {
   "cell_type": "code",
   "execution_count": 64,
   "id": "7a5af91f",
   "metadata": {},
   "outputs": [
    {
     "data": {
      "text/plain": [
       "3"
      ]
     },
     "execution_count": 64,
     "metadata": {},
     "output_type": "execute_result"
    }
   ],
   "source": [
    "len(queries_list[0].split(' '))"
   ]
  },
  {
   "cell_type": "code",
   "execution_count": 66,
   "id": "9da9b5d5",
   "metadata": {},
   "outputs": [
    {
     "name": "stdout",
     "output_type": "stream",
     "text": [
      "Столбец 1\tСтолбец 2\tСтолбец3\n"
     ]
    }
   ],
   "source": [
    "# Преобразование списка в строку\n",
    "print('\\t'.join(['Столбец 1','Столбец 2', 'Столбец3']))"
   ]
  },
  {
   "cell_type": "code",
   "execution_count": 67,
   "id": "ac755bec",
   "metadata": {},
   "outputs": [
    {
     "name": "stdout",
     "output_type": "stream",
     "text": [
      "Столбец 1,Столбец 2,Столбец3\n"
     ]
    }
   ],
   "source": [
    "# Преобразование списка в строку\n",
    "print(','.join(['Столбец 1','Столбец 2', 'Столбец3']))"
   ]
  },
  {
   "cell_type": "code",
   "execution_count": 68,
   "id": "27e98883",
   "metadata": {},
   "outputs": [
    {
     "data": {
      "text/plain": [
       "True"
      ]
     },
     "execution_count": 68,
     "metadata": {},
     "output_type": "execute_result"
    }
   ],
   "source": [
    "# Проверка вхождения элемента в список\n",
    "'Москва'in['Ленинград', 'Рига', 'Москва']"
   ]
  },
  {
   "cell_type": "code",
   "execution_count": 69,
   "id": "6d112433",
   "metadata": {},
   "outputs": [
    {
     "data": {
      "text/plain": [
       "False"
      ]
     },
     "execution_count": 69,
     "metadata": {},
     "output_type": "execute_result"
    }
   ],
   "source": [
    "# Проверка вхождения элемента в список\n",
    "'Москва'not in['Ленинград', 'Рига', 'Москва']"
   ]
  },
  {
   "cell_type": "code",
   "execution_count": null,
   "id": "b86f05d8",
   "metadata": {},
   "outputs": [],
   "source": [
    "# КОРТЕЖИ (TUPLES) - в круглых скобках"
   ]
  },
  {
   "cell_type": "code",
   "execution_count": 74,
   "id": "68b204d9",
   "metadata": {},
   "outputs": [
    {
     "data": {
      "text/plain": [
       "tuple"
      ]
     },
     "execution_count": 74,
     "metadata": {},
     "output_type": "execute_result"
    }
   ],
   "source": [
    "# Определяем тип\n",
    "salary_tuple=(100,200,300,400,500,600,700,800,900)\n",
    "type(salary_tuple)"
   ]
  },
  {
   "cell_type": "code",
   "execution_count": 75,
   "id": "9eb4afbf",
   "metadata": {},
   "outputs": [
    {
     "ename": "TypeError",
     "evalue": "'tuple' object does not support item assignment",
     "output_type": "error",
     "traceback": [
      "\u001b[0;31m---------------------------------------------------------------------------\u001b[0m",
      "\u001b[0;31mTypeError\u001b[0m                                 Traceback (most recent call last)",
      "\u001b[0;32m<ipython-input-75-6320d31b378e>\u001b[0m in \u001b[0;36m<module>\u001b[0;34m\u001b[0m\n\u001b[1;32m      1\u001b[0m \u001b[0;31m# Попытка изменить значение\u001b[0m\u001b[0;34m\u001b[0m\u001b[0;34m\u001b[0m\u001b[0;34m\u001b[0m\u001b[0m\n\u001b[0;32m----> 2\u001b[0;31m \u001b[0msalary_tuple\u001b[0m\u001b[0;34m[\u001b[0m\u001b[0;36m0\u001b[0m\u001b[0;34m]\u001b[0m\u001b[0;34m=\u001b[0m\u001b[0;36m500\u001b[0m\u001b[0;34m\u001b[0m\u001b[0;34m\u001b[0m\u001b[0m\n\u001b[0m",
      "\u001b[0;31mTypeError\u001b[0m: 'tuple' object does not support item assignment"
     ]
    }
   ],
   "source": [
    "# Попытка изменить значение - не работает т/к/ кортеж не меняет данные - это константы\n",
    "salary_tuple[0]=500"
   ]
  },
  {
   "cell_type": "code",
   "execution_count": 76,
   "id": "2314253d",
   "metadata": {},
   "outputs": [
    {
     "data": {
      "text/plain": [
       "tuple"
      ]
     },
     "execution_count": 76,
     "metadata": {},
     "output_type": "execute_result"
    }
   ],
   "source": [
    "# Кортеж из одного элемента задается так (с запятой на конце)\n",
    "t=10,\n",
    "type(t)\n"
   ]
  },
  {
   "cell_type": "code",
   "execution_count": 1,
   "id": "9089b521",
   "metadata": {},
   "outputs": [
    {
     "data": {
      "text/plain": [
       "[(100, 'Ivanov'),\n",
       " (200, 'Petrov'),\n",
       " (300, 'Sidorov'),\n",
       " (400, 'Smirnov'),\n",
       " (500, 'Vasin')]"
      ]
     },
     "execution_count": 1,
     "metadata": {},
     "output_type": "execute_result"
    }
   ],
   "source": [
    "# Функция zip, функция list отображает сформированный кортеж\n",
    "salaries=[100,200,300,400,500]\n",
    "fio=['Ivanov','Petrov','Sidorov','Smirnov','Vasin']\n",
    "payroll=zip(salaries,fio)\n",
    "list(payroll)"
   ]
  },
  {
   "cell_type": "code",
   "execution_count": 89,
   "id": "54faef84",
   "metadata": {},
   "outputs": [
    {
     "data": {
      "text/plain": [
       "[]"
      ]
     },
     "execution_count": 89,
     "metadata": {},
     "output_type": "execute_result"
    }
   ],
   "source": [
    "# Отображение результата объединения. Почему-то 2 раза подряд не срабатывает. А срабатывает только вместе c расчетомм payroll\n",
    "list(payroll)"
   ]
  },
  {
   "cell_type": "code",
   "execution_count": null,
   "id": "33b07dd2",
   "metadata": {},
   "outputs": [],
   "source": [
    "# ЦИКЛЫ WHILE И FOR"
   ]
  },
  {
   "cell_type": "code",
   "execution_count": null,
   "id": "1bf5d781",
   "metadata": {},
   "outputs": [],
   "source": [
    "# ЦИКЛ WHILE\n",
    "# Пример цикла while, синтаксис x-=1 соответствует x=x-1\n",
    "x=5\n",
    "while x!=0:\n",
    "    x-=1\n",
    "    print(x)"
   ]
  },
  {
   "cell_type": "code",
   "execution_count": 7,
   "id": "9d194192",
   "metadata": {},
   "outputs": [
    {
     "name": "stdout",
     "output_type": "stream",
     "text": [
      "10  четное число\n",
      "9  нечетное число\n",
      "8  четное число\n",
      "7  нечетное число\n",
      "6  четное число\n",
      "5  нечетное число\n",
      "4  четное число\n",
      "3  нечетное число\n",
      "2  четное число\n",
      "1  нечетное число\n"
     ]
    }
   ],
   "source": [
    "# ЦИКЛ WHILE\n",
    "# Разбор чисел - четные нечетные. Обрати внимание что x=x-1 должно быть на 1 уровень ниже while \n",
    "# (иначе скрипт будет работать некорректно)\n",
    "x=10\n",
    "while x!=0:\n",
    "    if x % 2 ==0:\n",
    "        print(x,' четное число')\n",
    "    else:\n",
    "        print(x,' нечетное число')\n",
    "    x=x-1\n"
   ]
  },
  {
   "cell_type": "code",
   "execution_count": 8,
   "id": "d1f19af4",
   "metadata": {},
   "outputs": [
    {
     "name": "stdout",
     "output_type": "stream",
     "text": [
      "700  четное число\n"
     ]
    }
   ],
   "source": [
    "# ЦИКЛ WHILE\n",
    "# Отладка с BREAK - показывает отработку на одной строке\n",
    "x=700\n",
    "while x!=0:\n",
    "    if x % 2 ==0:\n",
    "        print(x,' четное число')\n",
    "        break\n",
    "    else:\n",
    "        print(x,' нечетное число')\n",
    "    x=x-1\n",
    "    "
   ]
  },
  {
   "cell_type": "code",
   "execution_count": 15,
   "id": "3357e2c1",
   "metadata": {},
   "outputs": [
    {
     "name": "stdout",
     "output_type": "stream",
     "text": [
      "В\n",
      "а\n",
      "с\n",
      "и\n",
      "л\n",
      "и\n",
      "й\n",
      " \n",
      "А\n",
      "н\n",
      "д\n",
      "р\n",
      "е\n",
      "и\n",
      "ч\n",
      " \n",
      "К\n",
      "р\n",
      "ы\n",
      "с\n",
      "о\n",
      "л\n",
      "о\n",
      "в\n",
      "к\n",
      "и\n",
      "н\n"
     ]
    }
   ],
   "source": [
    "# ЦИКЛ FOR\n",
    "# Итерация по строкам\n",
    "son_name='Василий Андреич Крысоловкин'\n",
    "for letter in son_name:\n",
    "    print(letter)"
   ]
  },
  {
   "cell_type": "code",
   "execution_count": 17,
   "id": "5f838855",
   "metadata": {},
   "outputs": [],
   "source": [
    "# ЦИКЛ FOR \n",
    "# Итерация по спискам\n",
    "companies_capitalization=[\n",
    "    ['Orange',1.3],\n",
    "    ['Maxisoft',1.5],\n",
    "    ['Headbook',0.8],\n",
    "    ['Nikola',2.2]\n",
    "]"
   ]
  },
  {
   "cell_type": "code",
   "execution_count": 18,
   "id": "7e9879a3",
   "metadata": {},
   "outputs": [
    {
     "name": "stdout",
     "output_type": "stream",
     "text": [
      "Orange capitalization is 1.3\n",
      "Maxisoft capitalization is 1.5\n",
      "Headbook capitalization is 0.8\n",
      "Nikola capitalization is 2.2\n"
     ]
    }
   ],
   "source": [
    "# ЦИКЛ FOR \n",
    "# Итерация по спискам\n",
    "for company in companies_capitalization:\n",
    "    print (company[0], 'capitalization is',company[1])"
   ]
  },
  {
   "cell_type": "code",
   "execution_count": 19,
   "id": "aad005ec",
   "metadata": {},
   "outputs": [],
   "source": [
    "# BREAK PASS CONTINUE\n",
    "phrase='640 Кб должно хватить для любых задач (по легенде)'"
   ]
  },
  {
   "cell_type": "code",
   "execution_count": 20,
   "id": "4b105b1f",
   "metadata": {},
   "outputs": [
    {
     "name": "stdout",
     "output_type": "stream",
     "text": [
      "640"
     ]
    }
   ],
   "source": [
    "for letter in phrase:\n",
    "    if letter ==' ':\n",
    "        break\n",
    "    print(letter, end='')"
   ]
  },
  {
   "cell_type": "code",
   "execution_count": 23,
   "id": "4a445fb2",
   "metadata": {},
   "outputs": [
    {
     "name": "stdout",
     "output_type": "stream",
     "text": [
      "6\n",
      "4\n",
      "0\n",
      "К\n",
      "б\n",
      "д\n",
      "о\n",
      "л\n",
      "ж\n",
      "н\n",
      "о\n",
      "х\n",
      "в\n",
      "а\n",
      "т\n",
      "и\n",
      "т\n",
      "ь\n",
      "д\n",
      "л\n",
      "я\n",
      "л\n",
      "ю\n",
      "б\n",
      "ы\n",
      "х\n",
      "з\n",
      "а\n",
      "д\n",
      "а\n",
      "ч\n",
      "(\n",
      "п\n",
      "о\n",
      "л\n",
      "е\n",
      "г\n",
      "е\n",
      "н\n",
      "д\n",
      "е\n",
      ")\n",
      "finish loop\n"
     ]
    }
   ],
   "source": [
    "# Непрерывный список\n",
    "for letter in phrase:\n",
    "    if letter ==' ':\n",
    "        continue\n",
    "    print(letter)\n",
    "print('finish loop')"
   ]
  },
  {
   "cell_type": "code",
   "execution_count": 24,
   "id": "c9743752",
   "metadata": {},
   "outputs": [
    {
     "name": "stdout",
     "output_type": "stream",
     "text": [
      "6\n",
      "4\n",
      "0\n",
      " \n",
      "К\n",
      "б\n",
      " \n",
      "д\n",
      "о\n",
      "л\n",
      "ж\n",
      "н\n",
      "о\n",
      " \n",
      "х\n",
      "в\n",
      "а\n",
      "т\n",
      "и\n",
      "т\n",
      "ь\n",
      " \n",
      "д\n",
      "л\n",
      "я\n",
      " \n",
      "л\n",
      "ю\n",
      "б\n",
      "ы\n",
      "х\n",
      " \n",
      "з\n",
      "а\n",
      "д\n",
      "а\n",
      "ч\n",
      " \n",
      "(\n",
      "п\n",
      "о\n",
      " \n",
      "л\n",
      "е\n",
      "г\n",
      "е\n",
      "н\n",
      "д\n",
      "е\n",
      ")\n",
      "finish loop\n"
     ]
    }
   ],
   "source": [
    "# Непрерывный список с пробелами\n",
    "for letter in phrase:\n",
    "    if letter==' ':\n",
    "        pass\n",
    "    print(letter)\n",
    "print('finish loop')"
   ]
  }
 ],
 "metadata": {
  "kernelspec": {
   "display_name": "Python 3",
   "language": "python",
   "name": "python3"
  },
  "language_info": {
   "codemirror_mode": {
    "name": "ipython",
    "version": 3
   },
   "file_extension": ".py",
   "mimetype": "text/x-python",
   "name": "python",
   "nbconvert_exporter": "python",
   "pygments_lexer": "ipython3",
   "version": "3.8.8"
  }
 },
 "nbformat": 4,
 "nbformat_minor": 5
}
