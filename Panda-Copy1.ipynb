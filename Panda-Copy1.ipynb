{
 "cells": [
  {
   "cell_type": "code",
   "execution_count": 2,
   "metadata": {},
   "outputs": [],
   "source": [
    "import pandas as pd"
   ]
  },
  {
   "cell_type": "code",
   "execution_count": 26,
   "metadata": {},
   "outputs": [
    {
     "name": "stdout",
     "output_type": "stream",
     "text": [
      "Лучший фильм [318] с результатом [153]\n"
     ]
    }
   ],
   "source": [
    "# Задача 1\n",
    "\n",
    "\"\"\"\n",
    "Скачайте с сайта grouplens.org...movielens/ датасет \n",
    "любого размера. Определите какому фильму было выставлено\n",
    "больше всего оценок 5.0.\n",
    "\"\"\"\n",
    "\n",
    "## Настройка источника\n",
    "url = 'https://drive.google.com/file/d/1N3txVL6u2Y-ehrVoytODltfECbn7DtDp/view?usp=drivesdk'\n",
    "path = 'https://drive.google.com/uc?export=download&id='+url.split('/')[-2]\n",
    "df = pd.read_csv(path, sep=',', skiprows =0)\n",
    "\n",
    "## Фильтруем строки с рейтингом 5\n",
    "fim = df[ (df['rating']==5.0)]\n",
    "\n",
    "## Количество фильмов, получивших максимальную оценку\n",
    "best_film = dict(fim['movieId'].value_counts().head(1))\n",
    "\n",
    "print(f'Лучший фильм {list(best_film.keys())} с результатом {list(best_film.values())}')\n"
   ]
  },
  {
   "cell_type": "code",
   "execution_count": 3,
   "metadata": {},
   "outputs": [
    {
     "name": "stdout",
     "output_type": "stream",
     "text": [
      "          country  year  quantity  category\n",
      "248673  Lithuania  2009    4909.0        21\n",
      "243152  Lithuania  2009    4689.0        21\n",
      "248674  Lithuania  2008    4655.0        21\n",
      "248675  Lithuania  2007    4613.0        21\n",
      "248676  Lithuania  2006    4587.0        21\n",
      "...           ...   ...       ...       ...\n",
      "104433  Lithuania  2008       1.0        12\n",
      "104144  Lithuania  2007       1.0        12\n",
      "104143  Lithuania  2008       1.0        12\n",
      "103576  Lithuania  2010       1.0        12\n",
      "253986  Lithuania  2005       1.0        21\n",
      "\n",
      "[347 rows x 4 columns]\n",
      "Суммарное потребление стран Прибалтики составляет 240580.0\n"
     ]
    }
   ],
   "source": [
    "# Задача 2\n",
    "\n",
    "\"\"\"\n",
    "По данным файла power.csv посчитайте суммарное потребление \n",
    "стран Прибалтики (Латвия, Литва и Эстония) \n",
    "категорий 4, 12 и 21 за период с 2005 по 2010 года. \n",
    "Не учитывайте в расчетах отрицательные значения quantity.\n",
    "\"\"\"\n",
    "\n",
    "import pandas as pd\n",
    "\n",
    "## Настройка источника\n",
    "url = 'https://drive.google.com/file/d/1M9EEz7ExwUZA4u-m2hnYdy8Ofg2P-cP3/view?usp=drivesdk'\n",
    "path = 'https://drive.google.com/uc?export=download&id='+url.split('/')[-2]\n",
    "pow = pd.read_csv(path, sep=',', skiprows =0)\n",
    "\n",
    "## Хороший пример агрегации (Не для задачи)\n",
    "#pow_agg = pow.groupby('country').sum()\n",
    "\n",
    "## Фильтр по странам\n",
    "pow_p2 = pow[ (pow['country']=='Latvia') \n",
    "             |(pow['country']=='Lithuania') \n",
    "             |(pow['country']=='Estonia') \n",
    "            ]\n",
    "## Фильтр по категориям на основе фильтра по странам\n",
    "pow_c2 = pow_p2[(pow_p2['category'] == 4)\n",
    "               |(pow_p2['category'] == 12)\n",
    "               |(pow_p2['category'] == 21)\n",
    "               ]\n",
    "\n",
    "## Прочие фильтры и сортировка по убыванию результата\n",
    "res_list = pow_c2[(pow_c2.quantity > 0) \n",
    "                & (pow_c2.year >= 2005)\n",
    "                & (pow_c2.year <= 2010)  ].sort_values('quantity', ascending = False)\n",
    "\n",
    "## Расчет суммы и печать результата\n",
    "res = res_list['quantity'].sum()\n",
    "    \n",
    "print(res_list)\n",
    "\n",
    "print(f'Суммарное потребление стран Прибалтики составляет {res}')\n"
   ]
  },
  {
   "cell_type": "code",
   "execution_count": 8,
   "metadata": {},
   "outputs": [
    {
     "name": "stdout",
     "output_type": "stream",
     "text": [
      "Курс рубля                            Название   Цена  Изменение  Изменение(%)  Обновлено\n",
      "0  EURRUB Курс евро к рублю сегодня  86.27       0.02          0.02        NaN\n",
      "1       USDRUB Курс рубля к доллару  73.60       0.06          0.08        NaN \n",
      "\n",
      "Фьючерсы                               Название    Цена  Изменение  Изменение(%)  \\\n",
      "0       Нефть Brent Курс нефти сегодня   74.20       0.00          0.00   \n",
      "1          Нефть WTI Цены на нефть WTI   72.15      -0.02         -0.03   \n",
      "2  Природный газ Цена на природный газ    4.05       0.00          0.02   \n",
      "3                                 Кофе  191.75       0.00          0.00   \n",
      "4                             Кукуруза  545.40      -1.60         -0.29   \n",
      "5                                  Соя  352.90       0.00          0.00   \n",
      "6                               Хлопок   89.66       0.00          0.00   \n",
      "\n",
      "   Обновлено  \n",
      "0        NaN  \n",
      "1        NaN  \n",
      "2        NaN  \n",
      "3        NaN  \n",
      "4        NaN  \n",
      "5        NaN  \n",
      "6        NaN   \n",
      "\n",
      "Курс драгоценных металлов                            Название   Цена  Изменение  Изменение(%)  Обновлено\n",
      "0       Золото Цена золота на бирже  1 802       -1.0         -0.00        NaN\n",
      "1  Серебро Цена на серебро на бирже  25.18        0.0          0.00        NaN\n",
      "2         Палладий Цена на Палладий  2 671       -4.0         -0.00        NaN\n",
      "3           Платина Цены на платину  1 059       -0.0         -0.00        NaN\n",
      "4           Медь Цена меди на бирже   4.46        0.0          0.06        NaN\n"
     ]
    }
   ],
   "source": [
    "# Задача 3\n",
    "\n",
    "import pandas as pd\n",
    "#%pip install BeautifulSoup4\n",
    "#import pymysql\n",
    "\n",
    "page_url='https://fortrader.org/quotes/ruble'\n",
    "\n",
    "#pd.read_html('http://www.cbr.ru')[0]\n",
    "\n",
    "## Курс рубля\n",
    "site_1 = pd.read_html('https://fortrader.org/quotes')[0]\n",
    "#pd.read_html('https://fortrader.org/quotes')\n",
    "print(f'Курс рубля {site_1} \\n')\n",
    "\n",
    "## Фьючерсы\n",
    "site_2 = pd.read_html('https://fortrader.org/quotes')[1]\n",
    "#pd.read_html('https://fortrader.org/quotes')\n",
    "print(f'Фьючерсы {site_2} \\n')\n",
    "\n",
    "## Курс драгоценных металлов\n",
    "site_3 = pd.read_html('https://fortrader.org/quotes')[2]\n",
    "#pd.read_html('https://fortrader.org/quotes')\n",
    "print(f'Курс драгоценных металлов {site_3}')"
   ]
  },
  {
   "cell_type": "code",
   "execution_count": null,
   "metadata": {},
   "outputs": [],
   "source": []
  }
 ],
 "metadata": {
  "kernelspec": {
   "display_name": "Python 3",
   "language": "python",
   "name": "python3"
  }
 },
 "nbformat": 4,
 "nbformat_minor": 2
}
