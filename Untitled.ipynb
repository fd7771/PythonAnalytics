{
 "cells": [
  {
   "cell_type": "code",
   "execution_count": 1,
   "id": "8c16fbfa",
   "metadata": {},
   "outputs": [],
   "source": [
    "import numpy as np\n",
    "import matplotlib.pyplot as plt"
   ]
  },
  {
   "cell_type": "code",
   "execution_count": 16,
   "id": "ede77b01",
   "metadata": {},
   "outputs": [
    {
     "data": {
      "text/plain": [
       "[9, 8, 7, 6, 5, 4, 3, 2, 1, 0]"
      ]
     },
     "execution_count": 16,
     "metadata": {},
     "output_type": "execute_result"
    }
   ],
   "source": [
    "# Задача 1\n",
    "\n",
    "\"\"\"\n",
    "Создайте numpy array с элементами от числа N до 0 \n",
    "(например, для N = 10 это будет array([9, 8, 7, 6, 5, 4, 3, 2, 1, 0])).\n",
    "\"\"\"\n",
    "N = 10\n",
    "\n",
    "x = sorted(np.arange(0 , N), reverse = True)\n",
    "x\n"
   ]
  },
  {
   "cell_type": "code",
   "execution_count": 9,
   "id": "f6687f9c",
   "metadata": {},
   "outputs": [
    {
     "name": "stdout",
     "output_type": "stream",
     "text": [
      "[[25.         23.33333333 21.66666667 20.        ]\n",
      " [18.33333333 16.66666667 15.         13.33333333]\n",
      " [11.66666667 10.          8.33333333  6.66666667]\n",
      " [ 5.          3.33333333  1.66666667  0.        ]]\n",
      "Сумма по диагонали равна 50.0\n"
     ]
    }
   ],
   "source": [
    "# Задача 2\n",
    "\n",
    "\"\"\"\n",
    "Создайте диагональную матрицу с элементами от N до 0. \n",
    "Посчитайте сумму ее значений на диагонали.\n",
    "\"\"\"\n",
    "\n",
    "## Создадим array\n",
    "matrix_array = np.linspace(25,0,16)\n",
    "\n",
    "## Создаем матрицу\n",
    "matrix = matrix_array.reshape(4,4)\n",
    "\n",
    "## Считаем по диагонали\n",
    "\n",
    "matrix_sum = np.trace(matrix)\n",
    "\n",
    "print(matrix)\n",
    "\n",
    "print(f'Сумма по диагонали равна {matrix_sum}')\n"
   ]
  },
  {
   "cell_type": "code",
   "execution_count": 10,
   "id": "47a9994e",
   "metadata": {},
   "outputs": [
    {
     "data": {
      "text/plain": [
       "array([ 0.46666667,  3.84444444, -5.55555556])"
      ]
     },
     "execution_count": 10,
     "metadata": {},
     "output_type": "execute_result"
    }
   ],
   "source": [
    "# Задача 3\n",
    "\n",
    "\"\"\"\n",
    "Решите систему уравнений:\n",
    "4x + 2y + z = 4\n",
    "x + 3y = 12\n",
    "5y + 4z = -3\n",
    "\"\"\"\n",
    "## Коэфф в левой части \n",
    "a = np.array([[4,2,1], [1,3,0], [0,5,4]])\n",
    "\n",
    "## Коэфф в правой части\n",
    "b = np.array([4,12,-3])\n",
    "\n",
    "## Решаем\n",
    "from numpy import linalg\n",
    "linalg.solve(a,b)"
   ]
  },
  {
   "cell_type": "code",
   "execution_count": null,
   "id": "e3ab557e",
   "metadata": {},
   "outputs": [],
   "source": [
    "# Задача 4\n",
    "\n",
    "\"\"\"\n",
    "\n",
    "\"\"\"\n",
    "\n",
    "## Исходная матрица\n",
    "users_stats = np.array(\n",
    "    [\n",
    "        [2, 1, 0, 0, 0, 0],\n",
    "        [1, 1, 2, 1, 0, 0],\n",
    "        [2, 0, 1, 0, 0, 0],\n",
    "        [1, 1, 2, 1, 0, 1],\n",
    "        [0, 0, 1, 2, 0, 0],\n",
    "        [0, 0, 0, 0, 0, 5],\n",
    "        [1, 0, 0, 0, 0, 0],\n",
    "        [0, 1, 1, 0, 0, 0],\n",
    "        [0, 0, 0, 1, 1, 3],\n",
    "        [1, 0, 0, 2, 1, 4]\n",
    "    ], \n",
    "    np.int32\n",
    ")\n",
    "\n",
    "a = np.array([0, 1, 1, 0, 0, 0])\n",
    "b = np.array([0, 1, 2, 0, 0, 0])\n",
    "\n",
    "## Сравниваемое значение\n",
    "next_user_stats = np.array([0, 1, 2, 0, 0, 0])\n",
    "\n",
    "## Функция по поиску cos\n",
    "def cosine( a, b ):\n",
    "    \"\"\"\n",
    "    Подсчет косинуса угла между векторами a, b по их координатам\n",
    "    \"\"\"\n",
    "    \n",
    "## Длины векторов\n",
    "    aLength = np.linalg.norm( a )\n",
    "    bLength = np.linalg.norm( b )\n",
    "    \n",
    "    return np.dot( a, b ) / ( aLength * bLength )\n",
    "\n",
    "## Заводим пустые списки\n",
    "cos_kpi_list = []\n",
    "cos_user_list = []\n",
    "cos_list = {}\n",
    "\n",
    "## Расчитываем косинус по клиентам, формируем списки для словаря\n",
    "for num, dat in enumerate(users_stats):\n",
    "    user = num +1\n",
    "    cos_kpi = cosine(next_user_stats, users_stats[num])\n",
    "    cos_kpi_list.append(cos_kpi)\n",
    "    cos_user_list.append(user)\n",
    "\n",
    "## Формируем словарь\n",
    "cos_list = dict(zip(cos_user_list, cos_kpi_list))\n",
    "\n",
    "## Параметризуем список вывода наибольших значений\n",
    "num_suit_cust = 3\n",
    "\n",
    "## Сортируем по данным словаря по убыванию с учетом параметра\n",
    "cos_list2 = dict(sorted(cos_list.items(), key=lambda item: item[1],reverse = True)[:num_suit_cust])\n",
    "\n",
    "## Печать результата\n",
    "print('Косинус угла клиента:')\n",
    "\n",
    "for  key, value in cos_list2.items():\n",
    "    print(f'{key} равен: {value}')\n"
   ]
  },
  {
   "cell_type": "code",
   "execution_count": null,
   "id": "8ee90673",
   "metadata": {},
   "outputs": [],
   "source": []
  }
 ],
 "metadata": {
  "kernelspec": {
   "display_name": "Python 3",
   "language": "python",
   "name": "python3"
  },
  "language_info": {
   "codemirror_mode": {
    "name": "ipython",
    "version": 3
   },
   "file_extension": ".py",
   "mimetype": "text/x-python",
   "name": "python",
   "nbconvert_exporter": "python",
   "pygments_lexer": "ipython3",
   "version": "3.9.2+"
  }
 },
 "nbformat": 4,
 "nbformat_minor": 5
}
