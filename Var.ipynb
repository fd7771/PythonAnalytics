{
 "cells": [
  {
   "cell_type": "code",
   "execution_count": 11,
   "id": "e608ff28",
   "metadata": {},
   "outputs": [
    {
     "name": "stdout",
     "output_type": "stream",
     "text": [
      "Ответ:   30 900 0.03333333333333333\n"
     ]
    }
   ],
   "source": [
    "a=10+20\n",
    "b=a * 30\n",
    "c=a/b\n",
    "print ('Ответ:  ', a, b, c)"
   ]
  },
  {
   "cell_type": "code",
   "execution_count": null,
   "id": "da0fd3c5",
   "metadata": {},
   "outputs": [],
   "source": [
    "# Выбор из подходящих вариантов - выбираем после части переменной нажимаем TAB (называется автодополнение)\n",
    "Row"
   ]
  },
  {
   "cell_type": "code",
   "execution_count": null,
   "id": "0f3f2848",
   "metadata": {},
   "outputs": [],
   "source": [
    "# Рекомендуемый формат именования переменных в Python (snake case)\n",
    "Row_per_page=1\n",
    "Row_per_pageA=2\n",
    "Row_per_pageB=3"
   ]
  },
  {
   "cell_type": "code",
   "execution_count": 5,
   "id": "ca8119c6",
   "metadata": {},
   "outputs": [],
   "source": [
    "# Альтернативный формат именования переменных в Python (camel case)\n",
    "RowPerPage =1\n",
    "RowPerPageA =2\n",
    "RowPerPageB =3"
   ]
  },
  {
   "cell_type": "code",
   "execution_count": 14,
   "id": "71ba17d7",
   "metadata": {},
   "outputs": [
    {
     "name": "stdout",
     "output_type": "stream",
     "text": [
      "He said: \"Hello\"\n"
     ]
    }
   ],
   "source": [
    "# Объявление строковой переменной\n",
    "first_str_var= 'He said: \"Hello\"'\n",
    "print(first_str_var)"
   ]
  },
  {
   "cell_type": "code",
   "execution_count": null,
   "id": "b12a05eb",
   "metadata": {},
   "outputs": [],
   "source": []
  }
 ],
 "metadata": {
  "kernelspec": {
   "display_name": "Python 3",
   "language": "python",
   "name": "python3"
  },
  "language_info": {
   "codemirror_mode": {
    "name": "ipython",
    "version": 3
   },
   "file_extension": ".py",
   "mimetype": "text/x-python",
   "name": "python",
   "nbconvert_exporter": "python",
   "pygments_lexer": "ipython3",
   "version": "3.8.8"
  }
 },
 "nbformat": 4,
 "nbformat_minor": 5
}
